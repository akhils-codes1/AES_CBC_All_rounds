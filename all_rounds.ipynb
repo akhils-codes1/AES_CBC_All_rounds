{
 "cells": [
  {
   "cell_type": "code",
   "execution_count": 3,
   "id": "a85caa46",
   "metadata": {},
   "outputs": [],
   "source": [
    "from base64 import b64encode, b64decode\n",
    "\n",
    "def hex_to_base64(s):\n",
    "    b64 = b64encode(bytes.fromhex(s)).decode()\n",
    "    return b64\n",
    "\n",
    "def base64_to_hex(b64):\n",
    "    s2 = b64decode(b64.encode()).hex()\n",
    "    return s2"
   ]
  },
  {
   "cell_type": "code",
   "execution_count": 5,
   "id": "2a3e079e",
   "metadata": {},
   "outputs": [],
   "source": [
    "def base64_encode(message_bytes):\n",
    "    #message = \"Python is fun\"\n",
    "    #message_bytes = message.encode('ascii')#converts into bytes\n",
    "    base64_bytes = b64encode(message_bytes)#base64 encoding\n",
    "    base64_message = base64_bytes.decode('utf-8')#bytes to ascii\n",
    "    return base64_message\n",
    "\n",
    "def base64_decode(string):\n",
    "    base64_message = string\n",
    "    base64_bytes = base64_message.encode('utf-8')\n",
    "    message_bytes = b64decode(base64_bytes)#base64 decoding\n",
    "    #message = message_bytes.decode('ascii')\n",
    "    return message_bytes"
   ]
  },
  {
   "cell_type": "code",
   "execution_count": 6,
   "id": "18ff9e48",
   "metadata": {},
   "outputs": [],
   "source": [
    "def split_into_128bits(s):\n",
    "    n = int(len(s)/32)\n",
    "    ret = []\n",
    "    j = 0\n",
    "    for i in range(n):\n",
    "        ret += [s[j:j+32]]\n",
    "        j+=32\n",
    "    return ret"
   ]
  },
  {
   "cell_type": "code",
   "execution_count": 99,
   "id": "2a2302cf",
   "metadata": {},
   "outputs": [
    {
     "name": "stdout",
     "output_type": "stream",
     "text": [
      "b'hello,this is ABCDhello,this is ABCDhello,this is ABCD'\n"
     ]
    }
   ],
   "source": [
    "from Crypto.Random import get_random_bytes\n",
    "import sys\n",
    "from aes10 import AES as AES_mod\n",
    "from Crypto.Cipher import AES\n",
    "from Crypto.Util.Padding import pad, unpad\n",
    "\n",
    "def encrypt_AES(plaintext, IV, key):\n",
    "    \"\"\"\n",
    "    plaintext and IV as bytestring\n",
    "    key in hex format\n",
    "    \"\"\"\n",
    "    IV = base64_to_hex(base64_encode(IV))\n",
    "    s = pad(plaintext, AES.block_size)\n",
    "    s = base64_to_hex(base64_encode(s))\n",
    "    res = split_into_128bits(s)\n",
    "    new = AES_mod(key)\n",
    "    #master_key = 0x3c7e155628aed2a6abf7158809cf4f3d\n",
    "    plaintext = []\n",
    "    encrypted = []\n",
    "    n = len(res)\n",
    "    for i in range(n):\n",
    "        if(i==0):\n",
    "            plaintext.append(int(res[i],16)^int(IV,16))\n",
    "        else:\n",
    "            #print(i,len(res))\n",
    "            plaintext.append(int(res[i],16)^encrypted[i-1])\n",
    "        encrypted.append(new.encrypt(plaintext[i]))\n",
    "    return IV, encrypted\n",
    "\n",
    "def decrypt_AES(IV, encrypted, key):\n",
    "    n = len(encrypted)\n",
    "    new = AES_mod(key)\n",
    "    decrypted = []\n",
    "    res = []\n",
    "    for i in range(n):\n",
    "        decrypted.append(new.decrypt(encrypted[i]))        \n",
    "        if(i==0):\n",
    "            res.append(hex(decrypted[i] ^ int(IV,16)))\n",
    "        else:\n",
    "            res.append(hex(decrypted[i]^encrypted[i-1]))\n",
    "    s = \"\".join(i[2:] for i in res)\n",
    "    s = bytes.fromhex(s)\n",
    "    return(unpad(s,AES.block_size))\n",
    "\n",
    "\n",
    "plaintext1 = b'Python is the Best Language!'\n",
    "plaintext2 = b'Python is the Best Language. This has been the trend for the past 10 years or so!'\n",
    "IV = get_random_bytes(8)\n",
    "key = 0x3c7e155628aed2a6abf7158809cf4f3d\n",
    "enc_res = encrypt_AES(plaintext,IV,key)\n",
    "\n",
    "dec_res = decrypt_AES(enc_res[0],enc_res[1],key)\n",
    "print(dec_res)"
   ]
  },
  {
   "cell_type": "code",
   "execution_count": 116,
   "id": "8046c36f",
   "metadata": {},
   "outputs": [
    {
     "data": {
      "text/plain": [
       "(b'Hello, this is A!', 17)"
      ]
     },
     "execution_count": 116,
     "metadata": {},
     "output_type": "execute_result"
    }
   ],
   "source": [
    "fname = \"a.txt\"\n",
    "plaintext = open(fname,\"r\").read()[:-1]\n",
    "plaintext = plaintext[:512].encode('ascii')\n",
    "plaintext, len(plaintext)"
   ]
  },
  {
   "cell_type": "code",
   "execution_count": 100,
   "id": "360a76d5",
   "metadata": {},
   "outputs": [],
   "source": [
    "plaintext1 = b'Python is the Best Language!'\n",
    "plaintext2 = b'Python is the Best Language. This has been the trend for the past 10 years or so!'\n",
    "IV = get_random_bytes(8)\n",
    "key = 0x3c7e155628aed2a6abf7158809cf4f3d"
   ]
  },
  {
   "cell_type": "code",
   "execution_count": 117,
   "id": "6090497d",
   "metadata": {},
   "outputs": [],
   "source": [
    "def ciphertext(plaintext, round_number):\n",
    "    if(round_number == 1):\n",
    "        from aes1 import AES as AES_mod\n",
    "    elif(round_number == 2):\n",
    "        from aes2 import AES as AES_mod\n",
    "    elif(round_number == 3):\n",
    "        from aes3 import AES as AES_mod\n",
    "    elif(round_number == 4):\n",
    "        from aes4 import AES as AES_mod\n",
    "    elif(round_number == 5):\n",
    "        from aes5 import AES as AES_mod\n",
    "    elif(round_number == 6):\n",
    "        from aes6 import AES as AES_mod\n",
    "    elif(round_number == 7):\n",
    "        from aes7 import AES as AES_mod\n",
    "    elif(round_number == 8):\n",
    "        from aes8 import AES as AES_mod\n",
    "    elif(round_number == 9):\n",
    "        from aes9 import AES as AES_mod\n",
    "    elif(round_number == 10):\n",
    "        from aes10 import AES as AES_mod\n",
    "    enc_res = encrypt_AES(plaintext,IV,key)\n",
    "    ciphertext = \"\".join(hex(i)[2:] for i in enc_res[1])\n",
    "    return ciphertext\n",
    "        #print(\"AES_CBC_round1_ciphertext : \\n\\nIV :\\n\",enc_res[0],\"\\n\\nCIPHER TEXT : \\n\",ciphertext)\n",
    "        #print(\"\\nlen = \",len(ciphertext))"
   ]
  },
  {
   "cell_type": "code",
   "execution_count": null,
   "id": "5830c9a7",
   "metadata": {},
   "outputs": [],
   "source": []
  },
  {
   "cell_type": "markdown",
   "id": "45c821f8",
   "metadata": {},
   "source": [
    "# Round-1"
   ]
  },
  {
   "cell_type": "code",
   "execution_count": 101,
   "id": "7c13caf8",
   "metadata": {},
   "outputs": [
    {
     "name": "stdout",
     "output_type": "stream",
     "text": [
      "AES_CBC_round1_ciphertext : \n",
      "\n",
      "IV :\n",
      " edba5d5e117998e6 \n",
      "\n",
      "CIPHER TEXT : \n",
      " 69dda2a619a0523388c7816d05323a5e92145954fc5766742c53518437c451a762832cedea35d09c1e6fd742f5bfd27aaec5818f47dc180be9df480f6b5d8c1c\n",
      "\n",
      "len =  128\n"
     ]
    }
   ],
   "source": [
    "#round-1 ciphertext generation\n",
    "from aes1 import AES as AES_mod\n",
    "\n",
    "enc_res = encrypt_AES(plaintext,IV,key)\n",
    "ciphertext = \"\".join(hex(i)[2:] for i in enc_res[1])\n",
    "#print(enc_res)\n",
    "print(\"AES_CBC_round1_ciphertext : \\n\\nIV :\\n\",enc_res[0],\"\\n\\nCIPHER TEXT : \\n\",ciphertext)\n",
    "print(\"\\nlen = \",len(ciphertext))\n",
    "# dec_res = decrypt_AES(enc_res[0],enc_res[1],key)\n",
    "# print(dec_res)"
   ]
  },
  {
   "cell_type": "markdown",
   "id": "30a79d52",
   "metadata": {},
   "source": [
    "# Round-2"
   ]
  },
  {
   "cell_type": "code",
   "execution_count": 102,
   "id": "6e67f0cc",
   "metadata": {},
   "outputs": [
    {
     "name": "stdout",
     "output_type": "stream",
     "text": [
      "AES_CBC_round2_ciphertext : \n",
      "\n",
      "IV :\n",
      " edba5d5e117998e6 \n",
      "\n",
      "CIPHER TEXT : \n",
      " 6360c03c3ca6ace841f6f12bc15b68b8fb8622a134aaf320facc1ae891891af9c794d4c6f82284185563b1ddbddbd925e50d325cc2d6e869e53347af67fce1f2\n",
      "\n",
      "len =  128\n"
     ]
    }
   ],
   "source": [
    "#round-2 ciphertext generation\n",
    "from aes2 import AES as AES_mod\n",
    "\n",
    "enc_res = encrypt_AES(plaintext,IV,key)\n",
    "ciphertext = \"\".join(hex(i)[2:] for i in enc_res[1])\n",
    "\n",
    "#print(enc_res)\n",
    "print(\"AES_CBC_round2_ciphertext : \\n\\nIV :\\n\",enc_res[0],\"\\n\\nCIPHER TEXT : \\n\",ciphertext)\n",
    "print(\"\\nlen = \",len(ciphertext))\n",
    "# dec_res = decrypt_AES(enc_res[0],enc_res[1],key)\n",
    "# print(dec_res)"
   ]
  },
  {
   "cell_type": "markdown",
   "id": "2577d6af",
   "metadata": {},
   "source": [
    "# Round - 3"
   ]
  },
  {
   "cell_type": "code",
   "execution_count": 103,
   "id": "d55647b1",
   "metadata": {},
   "outputs": [
    {
     "name": "stdout",
     "output_type": "stream",
     "text": [
      "AES_CBC_round3_ciphertext : \n",
      "\n",
      "IV :\n",
      " edba5d5e117998e6 \n",
      "\n",
      "CIPHER TEXT : \n",
      " 876d7eb4145b80928856dab677e6a60a6288017f0328143ccc633fa76a95d34c9e01e466226261ef0e936a2f8db4958ccd04f20c392e7819f6f40dae97805ec\n",
      "\n",
      "len =  127\n"
     ]
    }
   ],
   "source": [
    "#round-3 ciphertext generation\n",
    "from aes3 import AES as AES_mod\n",
    "\n",
    "enc_res = encrypt_AES(plaintext,IV,key)\n",
    "ciphertext = \"\".join(hex(i)[2:] for i in enc_res[1])\n",
    "\n",
    "#print(enc_res)\n",
    "print(\"AES_CBC_round3_ciphertext : \\n\\nIV :\\n\",enc_res[0],\"\\n\\nCIPHER TEXT : \\n\",ciphertext)\n",
    "print(\"\\nlen = \",len(ciphertext))\n"
   ]
  },
  {
   "cell_type": "markdown",
   "id": "523b3bca",
   "metadata": {},
   "source": [
    "# Round - 4"
   ]
  },
  {
   "cell_type": "code",
   "execution_count": 104,
   "id": "d4bcd669",
   "metadata": {},
   "outputs": [
    {
     "name": "stdout",
     "output_type": "stream",
     "text": [
      "AES_CBC_round4_ciphertext : \n",
      "\n",
      "IV :\n",
      " edba5d5e117998e6 \n",
      "\n",
      "CIPHER TEXT : \n",
      " 86c4e502ec4dc6643b4496d7273555301a94b1768d8c56d8a5e0e22bf71d05f1bb44e51a18c83b919200018b1ad3094e94323d3eaf82ed96e9e45f5aa075e458\n",
      "\n",
      "len =  128\n"
     ]
    }
   ],
   "source": [
    "#round-4 ciphertext generation\n",
    "from aes4 import AES as AES_mod\n",
    "\n",
    "enc_res = encrypt_AES(plaintext,IV,key)\n",
    "ciphertext = \"\".join(hex(i)[2:] for i in enc_res[1])\n",
    "\n",
    "#print(enc_res)\n",
    "print(\"AES_CBC_round4_ciphertext : \\n\\nIV :\\n\",enc_res[0],\"\\n\\nCIPHER TEXT : \\n\",ciphertext)\n",
    "print(\"\\nlen = \",len(ciphertext))\n"
   ]
  },
  {
   "cell_type": "markdown",
   "id": "ea93d842",
   "metadata": {},
   "source": [
    "# Round - 5"
   ]
  },
  {
   "cell_type": "code",
   "execution_count": 105,
   "id": "39c61908",
   "metadata": {},
   "outputs": [
    {
     "name": "stdout",
     "output_type": "stream",
     "text": [
      "AES_CBC_round5_ciphertext : \n",
      "\n",
      "IV :\n",
      " edba5d5e117998e6 \n",
      "\n",
      "CIPHER TEXT : \n",
      " 158397ae740ae1bc2cbaa66bc4dbc03db208189f98963f1d236e0002c4676e68f07f63bbfa6aa491383eda19e57aed128a55619242cff24da9f5e8d65be2b065\n",
      "\n",
      "len =  128\n"
     ]
    }
   ],
   "source": [
    "#round-5 ciphertext generation\n",
    "from aes5 import AES as AES_mod\n",
    "enc_res = encrypt_AES(plaintext,IV,key)\n",
    "ciphertext = \"\".join(hex(i)[2:] for i in enc_res[1])\n",
    "\n",
    "#print(enc_res)\n",
    "print(\"AES_CBC_round5_ciphertext : \\n\\nIV :\\n\",enc_res[0],\"\\n\\nCIPHER TEXT : \\n\",ciphertext)\n",
    "print(\"\\nlen = \",len(ciphertext))\n",
    "# dec_res = decrypt_AES(enc_res[0],enc_res[1],key)\n",
    "# print(dec_res)"
   ]
  },
  {
   "cell_type": "markdown",
   "id": "494e73ed",
   "metadata": {},
   "source": [
    "# Round - 6"
   ]
  },
  {
   "cell_type": "code",
   "execution_count": 106,
   "id": "cc1c300c",
   "metadata": {},
   "outputs": [
    {
     "name": "stdout",
     "output_type": "stream",
     "text": [
      "AES_CBC_round6_ciphertext : \n",
      "\n",
      "IV :\n",
      " edba5d5e117998e6 \n",
      "\n",
      "CIPHER TEXT : \n",
      " 81caaccaaadcc3e0db2e2f274d85a8473b5b6233bd29f8ea21682ff2fe4bad207ed98f413258109536ece83629f6f3ad1f3e096a5a734d5b3c77ab6b17e27223\n",
      "\n",
      "len =  128\n"
     ]
    }
   ],
   "source": [
    "#round-6 ciphertext generation\n",
    "from aes6 import AES as AES_mod\n",
    "enc_res = encrypt_AES(plaintext,IV,key)\n",
    "ciphertext = \"\".join(hex(i)[2:] for i in enc_res[1])\n",
    "\n",
    "#print(enc_res)\n",
    "print(\"AES_CBC_round6_ciphertext : \\n\\nIV :\\n\",enc_res[0],\"\\n\\nCIPHER TEXT : \\n\",ciphertext)\n",
    "print(\"\\nlen = \",len(ciphertext))\n",
    "# dec_res = decrypt_AES(enc_res[0],enc_res[1],key)\n",
    "# print(dec_res)"
   ]
  },
  {
   "cell_type": "markdown",
   "id": "2c5f89fc",
   "metadata": {},
   "source": [
    "# Round - 7"
   ]
  },
  {
   "cell_type": "code",
   "execution_count": 107,
   "id": "698337d3",
   "metadata": {},
   "outputs": [
    {
     "name": "stdout",
     "output_type": "stream",
     "text": [
      "AES_CBC_round7_ciphertext : \n",
      "\n",
      "IV :\n",
      " edba5d5e117998e6 \n",
      "\n",
      "CIPHER TEXT : \n",
      " e0b14f31b65e77c9afac857d6aea1c1c7a796d146a59238b4dd423c33ead5fd7d026c9275ec37a5adc43fcd022afeb025723b2b39c4f51e2bbe1ab419e6cceb3\n",
      "\n",
      "len =  128\n"
     ]
    }
   ],
   "source": [
    "#round-7 ciphertext generation\n",
    "from aes7 import AES as AES_mod\n",
    "\n",
    "enc_res = encrypt_AES(plaintext,IV,key)\n",
    "ciphertext = \"\".join(hex(i)[2:] for i in enc_res[1])\n",
    "\n",
    "#print(enc_res)\n",
    "print(\"AES_CBC_round7_ciphertext : \\n\\nIV :\\n\",enc_res[0],\"\\n\\nCIPHER TEXT : \\n\",ciphertext)\n",
    "print(\"\\nlen = \",len(ciphertext))\n"
   ]
  },
  {
   "cell_type": "markdown",
   "id": "10db587e",
   "metadata": {},
   "source": [
    "# Round - 8"
   ]
  },
  {
   "cell_type": "code",
   "execution_count": 108,
   "id": "0f85c593",
   "metadata": {},
   "outputs": [
    {
     "name": "stdout",
     "output_type": "stream",
     "text": [
      "AES_CBC_round8_ciphertext : \n",
      "\n",
      "IV :\n",
      " edba5d5e117998e6 \n",
      "\n",
      "CIPHER TEXT : \n",
      " a91c28e4ecc55c47ae85c956138ee15aded90f490a283a32d36ea2b219588734400318dc21c75ea692d9049ce793973db5d7bfa2343110477a7138ed67438bd5\n",
      "\n",
      "len =  128\n"
     ]
    }
   ],
   "source": [
    "#round-8 ciphertext generation\n",
    "from aes8 import AES as AES_mod\n",
    "\n",
    "enc_res = encrypt_AES(plaintext,IV,key)\n",
    "ciphertext = \"\".join(hex(i)[2:] for i in enc_res[1])\n",
    "\n",
    "#print(enc_res)\n",
    "print(\"AES_CBC_round8_ciphertext : \\n\\nIV :\\n\",enc_res[0],\"\\n\\nCIPHER TEXT : \\n\",ciphertext)\n",
    "print(\"\\nlen = \",len(ciphertext))\n",
    "# dec_res = decrypt_AES(enc_res[0],enc_res[1],key)\n",
    "# print(dec_res)"
   ]
  },
  {
   "cell_type": "markdown",
   "id": "f2d701e1",
   "metadata": {},
   "source": [
    "# Round - 9"
   ]
  },
  {
   "cell_type": "code",
   "execution_count": 109,
   "id": "bc10700e",
   "metadata": {},
   "outputs": [
    {
     "name": "stdout",
     "output_type": "stream",
     "text": [
      "AES_CBC_round9_ciphertext : \n",
      "\n",
      "IV :\n",
      " edba5d5e117998e6 \n",
      "\n",
      "CIPHER TEXT : \n",
      " 178f491a0f82bf91408a805bcc6d93b68693e280eff777fe755632bcc417f4a721c5aee8badab291e524ed4579b8a1f9cb4043d83c96f1d0c94a4cd641038e14\n",
      "\n",
      "len =  128\n"
     ]
    }
   ],
   "source": [
    "#round-9 ciphertext generation\n",
    "from aes9 import AES as AES_mod\n",
    "enc_res = encrypt_AES(plaintext,IV,key)\n",
    "ciphertext = \"\".join(hex(i)[2:] for i in enc_res[1])\n",
    "\n",
    "#print(enc_res)\n",
    "print(\"AES_CBC_round9_ciphertext : \\n\\nIV :\\n\",enc_res[0],\"\\n\\nCIPHER TEXT : \\n\",ciphertext)\n",
    "print(\"\\nlen = \",len(ciphertext))\n",
    "# dec_res = decrypt_AES(enc_res[0],enc_res[1],key)\n",
    "# print(dec_res)"
   ]
  },
  {
   "cell_type": "markdown",
   "id": "b0f35c89",
   "metadata": {},
   "source": [
    "# Round - 10"
   ]
  },
  {
   "cell_type": "code",
   "execution_count": 110,
   "id": "fa1e49f0",
   "metadata": {},
   "outputs": [
    {
     "name": "stdout",
     "output_type": "stream",
     "text": [
      "AES_CBC_round10_ciphertext : \n",
      "\n",
      "IV :\n",
      " edba5d5e117998e6 \n",
      "\n",
      "CIPHER TEXT : \n",
      " b4eb8266898525efda672cd6ea7431f0a85b736c4747d32051871b7922514c74198ad8469bda651ea349c045aaf3729fa903c05e6de1c6d0ab6c1a54dadf545a\n",
      "\n",
      "len =  128\n",
      "\n",
      "DECRYPTED TEXT:\n",
      "b'hello,this is ABCDhello,this is ABCDhello,this is ABCD'\n"
     ]
    }
   ],
   "source": [
    "from aes10 import AES as AES_mod\n",
    "enc_res = encrypt_AES(plaintext,IV,key)\n",
    "ciphertext = \"\".join(hex(i)[2:] for i in enc_res[1])\n",
    "print(\"AES_CBC_round10_ciphertext : \\n\\nIV :\\n\",enc_res[0],\"\\n\\nCIPHER TEXT : \\n\",ciphertext)\n",
    "print(\"\\nlen = \",len(ciphertext))\n",
    "\n",
    "dec_res = decrypt_AES(enc_res[0],enc_res[1],key)\n",
    "print(\"\\nDECRYPTED TEXT:\")\n",
    "print(dec_res)"
   ]
  },
  {
   "cell_type": "code",
   "execution_count": null,
   "id": "6d0c4b55",
   "metadata": {},
   "outputs": [],
   "source": []
  },
  {
   "cell_type": "code",
   "execution_count": null,
   "id": "45621df1",
   "metadata": {},
   "outputs": [],
   "source": []
  },
  {
   "cell_type": "code",
   "execution_count": null,
   "id": "9c3071fe",
   "metadata": {},
   "outputs": [],
   "source": []
  },
  {
   "cell_type": "code",
   "execution_count": null,
   "id": "0bca4908",
   "metadata": {},
   "outputs": [],
   "source": []
  },
  {
   "cell_type": "code",
   "execution_count": null,
   "id": "79b7adef",
   "metadata": {},
   "outputs": [],
   "source": []
  },
  {
   "cell_type": "code",
   "execution_count": null,
   "id": "e9ed3185",
   "metadata": {},
   "outputs": [],
   "source": []
  },
  {
   "cell_type": "code",
   "execution_count": null,
   "id": "08edc1b1",
   "metadata": {},
   "outputs": [],
   "source": []
  }
 ],
 "metadata": {
  "kernelspec": {
   "display_name": "Python 3 (ipykernel)",
   "language": "python",
   "name": "python3"
  },
  "language_info": {
   "codemirror_mode": {
    "name": "ipython",
    "version": 3
   },
   "file_extension": ".py",
   "mimetype": "text/x-python",
   "name": "python",
   "nbconvert_exporter": "python",
   "pygments_lexer": "ipython3",
   "version": "3.9.12"
  }
 },
 "nbformat": 4,
 "nbformat_minor": 5
}
