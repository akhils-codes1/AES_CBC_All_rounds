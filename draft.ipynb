{
 "cells": [
  {
   "cell_type": "code",
   "execution_count": 30,
   "id": "559d0d60",
   "metadata": {},
   "outputs": [
    {
     "name": "stdout",
     "output_type": "stream",
     "text": [
      "cafebabe in base64: yv66vg==\n",
      "yv66vg== in hex is: cafebabe\n"
     ]
    }
   ],
   "source": [
    "# converting hex to base64 and back\n",
    "from base64 import b64encode, b64decode\n",
    "\n",
    "# hex -> base64\n",
    "s = 'cafebabe'\n",
    "b64 = b64encode(bytes.fromhex(s)).decode()\n",
    "print('cafebabe in base64:', b64)\n",
    "\n",
    "# base64 -> hex\n",
    "s2 = b64decode(b64.encode()).hex()\n",
    "print('yv66vg== in hex is:', s2)\n",
    "assert s == s2"
   ]
  },
  {
   "cell_type": "code",
   "execution_count": 31,
   "id": "a85caa46",
   "metadata": {},
   "outputs": [],
   "source": [
    "def hex_to_base64(s):\n",
    "    b64 = b64encode(bytes.fromhex(s)).decode()\n",
    "    return b64\n",
    "\n",
    "def base64_to_hex(b64):\n",
    "    s2 = b64decode(b64.encode()).hex()\n",
    "    return s2"
   ]
  },
  {
   "cell_type": "code",
   "execution_count": 32,
   "id": "156a959d",
   "metadata": {},
   "outputs": [
    {
     "data": {
      "text/plain": [
       "'0x3243f6a8885a308d313198a2e0370734'"
      ]
     },
     "execution_count": 32,
     "metadata": {},
     "output_type": "execute_result"
    }
   ],
   "source": [
    "hex(int(base64_to_hex(hex_to_base64(str(0x3243f6a8885a308d313198a2e0370734)))))"
   ]
  },
  {
   "cell_type": "code",
   "execution_count": 33,
   "id": "2a3e079e",
   "metadata": {},
   "outputs": [],
   "source": [
    "def base64_encode(message_bytes):\n",
    "    #message = \"Python is fun\"\n",
    "    #message_bytes = message.encode('ascii')#converts into bytes\n",
    "    base64_bytes = b64encode(message_bytes)#base64 encoding\n",
    "    base64_message = base64_bytes.decode('utf-8')#bytes to ascii\n",
    "    return base64_message\n",
    "\n",
    "def base64_decode(string):\n",
    "    base64_message = string\n",
    "    base64_bytes = base64_message.encode('utf-8')\n",
    "    message_bytes = b64decode(base64_bytes)#base64 decoding\n",
    "    #message = message_bytes.decode('ascii')\n",
    "    return message_bytes"
   ]
  },
  {
   "cell_type": "code",
   "execution_count": 34,
   "id": "8d60a2a5",
   "metadata": {},
   "outputs": [],
   "source": [
    "s = 0x3243f6a8885a308d313198a2e0370734"
   ]
  },
  {
   "cell_type": "code",
   "execution_count": 35,
   "id": "9047ab8d",
   "metadata": {},
   "outputs": [
    {
     "data": {
      "text/plain": [
       "'66814286504060421741230023322616923956'"
      ]
     },
     "execution_count": 35,
     "metadata": {},
     "output_type": "execute_result"
    }
   ],
   "source": [
    "ascii(s)"
   ]
  },
  {
   "cell_type": "code",
   "execution_count": 36,
   "id": "e1a6c158",
   "metadata": {},
   "outputs": [
    {
     "data": {
      "text/plain": [
       "66814286504060421741230023322616923956"
      ]
     },
     "execution_count": 36,
     "metadata": {},
     "output_type": "execute_result"
    }
   ],
   "source": [
    "s"
   ]
  },
  {
   "cell_type": "code",
   "execution_count": 37,
   "id": "f1626688",
   "metadata": {},
   "outputs": [
    {
     "data": {
      "text/plain": [
       "b'f\\x81B\\x86P@`B\\x17A#\\x00#2&\\x16\\x929V'"
      ]
     },
     "execution_count": 37,
     "metadata": {},
     "output_type": "execute_result"
    }
   ],
   "source": [
    "bytes.fromhex(str(s))"
   ]
  },
  {
   "cell_type": "code",
   "execution_count": 38,
   "id": "520d24af",
   "metadata": {},
   "outputs": [
    {
     "name": "stdout",
     "output_type": "stream",
     "text": [
      "b'Python is the Best Language!\\x04\\x04\\x04\\x04'\n"
     ]
    },
    {
     "data": {
      "text/plain": [
       "b'Python is the Best Language!'"
      ]
     },
     "execution_count": 38,
     "metadata": {},
     "output_type": "execute_result"
    }
   ],
   "source": [
    "from Crypto.Cipher import AES\n",
    "from Crypto.Util.Padding import pad, unpad\n",
    "#plaintext\n",
    "plaintext = b'Python is the Best Language!'\n",
    "#padding\n",
    "s = pad(plaintext, AES.block_size)\n",
    "print(s)\n",
    "#unpadding\n",
    "unpad(s,AES.block_size)"
   ]
  },
  {
   "cell_type": "code",
   "execution_count": 39,
   "id": "4bdc2f09",
   "metadata": {},
   "outputs": [
    {
     "data": {
      "text/plain": [
       "b'Python is the Best Language!\\x04\\x04\\x04\\x04'"
      ]
     },
     "execution_count": 39,
     "metadata": {},
     "output_type": "execute_result"
    }
   ],
   "source": [
    "s"
   ]
  },
  {
   "cell_type": "code",
   "execution_count": 40,
   "id": "86abb896",
   "metadata": {},
   "outputs": [],
   "source": [
    "s = base64_to_hex(base64_encode(s))"
   ]
  },
  {
   "cell_type": "code",
   "execution_count": 41,
   "id": "220dcdfd",
   "metadata": {},
   "outputs": [
    {
     "data": {
      "text/plain": [
       "'507974686f6e206973207468652042657374204c616e67756167652104040404'"
      ]
     },
     "execution_count": 41,
     "metadata": {},
     "output_type": "execute_result"
    }
   ],
   "source": [
    "s"
   ]
  },
  {
   "cell_type": "code",
   "execution_count": 47,
   "id": "4d7e3ab2",
   "metadata": {},
   "outputs": [
    {
     "data": {
      "text/plain": [
       "32"
      ]
     },
     "execution_count": 47,
     "metadata": {},
     "output_type": "execute_result"
    }
   ],
   "source": [
    "len(s)"
   ]
  },
  {
   "cell_type": "code",
   "execution_count": 84,
   "id": "a7a47e60",
   "metadata": {},
   "outputs": [],
   "source": [
    "#s = '0x'+s"
   ]
  },
  {
   "cell_type": "code",
   "execution_count": 27,
   "id": "1aec8d56",
   "metadata": {},
   "outputs": [
    {
     "data": {
      "text/plain": [
       "'0x507974686f6e206973207468652042657374204c616e67756167652104040404'"
      ]
     },
     "execution_count": 27,
     "metadata": {},
     "output_type": "execute_result"
    }
   ],
   "source": [
    "q = hex(int(s,16))\n",
    "q"
   ]
  },
  {
   "cell_type": "code",
   "execution_count": 45,
   "id": "a7ebd14a",
   "metadata": {},
   "outputs": [],
   "source": [
    "s = bytes.fromhex(s)"
   ]
  },
  {
   "cell_type": "code",
   "execution_count": 61,
   "id": "f288a42c",
   "metadata": {},
   "outputs": [
    {
     "data": {
      "text/plain": [
       "b'Python is the Best Language!'"
      ]
     },
     "execution_count": 61,
     "metadata": {},
     "output_type": "execute_result"
    }
   ],
   "source": [
    "unpad(s,AES.block_size)"
   ]
  },
  {
   "cell_type": "code",
   "execution_count": 62,
   "id": "1606b103",
   "metadata": {},
   "outputs": [],
   "source": [
    "#checking again"
   ]
  },
  {
   "cell_type": "code",
   "execution_count": 60,
   "id": "3d528bf9",
   "metadata": {},
   "outputs": [
    {
     "data": {
      "text/plain": [
       "30"
      ]
     },
     "execution_count": 60,
     "metadata": {},
     "output_type": "execute_result"
    }
   ],
   "source": [
    "#checking XOR operation between hexadecimal numbers\n",
    "a = '0xaf'#or a = 'af'\n",
    "b = '0xb1'#or b = 'b1'\n",
    "\n",
    "int(a,16) ^ int(b,16)"
   ]
  },
  {
   "cell_type": "code",
   "execution_count": null,
   "id": "10a7fe5a",
   "metadata": {},
   "outputs": [],
   "source": []
  },
  {
   "cell_type": "code",
   "execution_count": null,
   "id": "b98babca",
   "metadata": {},
   "outputs": [],
   "source": []
  },
  {
   "cell_type": "code",
   "execution_count": null,
   "id": "a12714dd",
   "metadata": {},
   "outputs": [],
   "source": []
  },
  {
   "cell_type": "code",
   "execution_count": null,
   "id": "cf18caeb",
   "metadata": {},
   "outputs": [],
   "source": []
  },
  {
   "cell_type": "code",
   "execution_count": null,
   "id": "4b80401c",
   "metadata": {},
   "outputs": [],
   "source": []
  },
  {
   "cell_type": "code",
   "execution_count": null,
   "id": "1df3478b",
   "metadata": {},
   "outputs": [],
   "source": []
  },
  {
   "cell_type": "code",
   "execution_count": 208,
   "id": "18ff9e48",
   "metadata": {},
   "outputs": [],
   "source": [
    "def split_into_128bits(s):\n",
    "    n = int(len(s)/32)\n",
    "    ret = []\n",
    "    j = 0\n",
    "    for i in range(n):\n",
    "        ret += [s[j:j+32]]\n",
    "        j+=32\n",
    "    return ret"
   ]
  },
  {
   "cell_type": "code",
   "execution_count": 209,
   "id": "9c557a87",
   "metadata": {},
   "outputs": [],
   "source": [
    "#take plaintext and pad it as per AES blocksizes"
   ]
  },
  {
   "cell_type": "code",
   "execution_count": 210,
   "id": "0b3de287",
   "metadata": {},
   "outputs": [],
   "source": [
    "import sys\n",
    "from aes10 import AES as AES10"
   ]
  },
  {
   "cell_type": "code",
   "execution_count": 211,
   "id": "e211abb3",
   "metadata": {},
   "outputs": [
    {
     "data": {
      "text/plain": [
       "b'Python is the Best Language!\\x04\\x04\\x04\\x04'"
      ]
     },
     "execution_count": 211,
     "metadata": {},
     "output_type": "execute_result"
    }
   ],
   "source": [
    "from Crypto.Cipher import AES\n",
    "from Crypto.Util.Padding import pad, unpad\n",
    "#plaintext\n",
    "plaintext = b'Python is the Best Language!'\n",
    "#padding\n",
    "s = pad(plaintext, AES.block_size)\n",
    "s"
   ]
  },
  {
   "cell_type": "code",
   "execution_count": 212,
   "id": "ad6e476c",
   "metadata": {},
   "outputs": [],
   "source": [
    "#encode the string into base64\n",
    "#then convert this base64 to hex format"
   ]
  },
  {
   "cell_type": "code",
   "execution_count": 213,
   "id": "0e819796",
   "metadata": {},
   "outputs": [
    {
     "name": "stdout",
     "output_type": "stream",
     "text": [
      "507974686f6e206973207468652042657374204c616e67756167652104040404\n"
     ]
    },
    {
     "data": {
      "text/plain": [
       "64"
      ]
     },
     "execution_count": 213,
     "metadata": {},
     "output_type": "execute_result"
    }
   ],
   "source": [
    "s = base64_to_hex(base64_encode(s))\n",
    "print(s)\n",
    "len(s)"
   ]
  },
  {
   "cell_type": "code",
   "execution_count": 214,
   "id": "45ad7e74",
   "metadata": {},
   "outputs": [
    {
     "data": {
      "text/plain": [
       "['507974686f6e20697320746865204265', '7374204c616e67756167652104040404']"
      ]
     },
     "execution_count": 214,
     "metadata": {},
     "output_type": "execute_result"
    }
   ],
   "source": [
    "#split into blocks of 128bits\n",
    "res = split_into_128bits(s)\n",
    "res"
   ]
  },
  {
   "cell_type": "code",
   "execution_count": 215,
   "id": "abe7f603",
   "metadata": {},
   "outputs": [],
   "source": [
    "master_key = 0x3c7e155628aed2a6abf7158809cf4f3d"
   ]
  },
  {
   "cell_type": "code",
   "execution_count": 216,
   "id": "63b0da52",
   "metadata": {},
   "outputs": [
    {
     "name": "stdout",
     "output_type": "stream",
     "text": [
      "plaintext = \n",
      " 106968868616404880043875292399139832421\n",
      "ciphertext = \n",
      " 125124085852993207990821467624547058492\n",
      "decrypted = \n",
      " 106968868616404880043875292399139832421\n"
     ]
    }
   ],
   "source": [
    "plaintext0 = int(res[0],16)#0x507974686f6e20697320746865204265\n",
    "new = AES10(master_key)\n",
    "encrypted0 = new.encrypt(plaintext0)\n",
    "decrypted0 = new.decrypt(encrypted0)\n",
    "print(\"plaintext = \\n\",plaintext0)\n",
    "print(\"ciphertext = \\n\",encrypted0)\n",
    "print(\"decrypted = \\n\", decrypted0)"
   ]
  },
  {
   "cell_type": "code",
   "execution_count": 217,
   "id": "27e1d703",
   "metadata": {},
   "outputs": [
    {
     "name": "stdout",
     "output_type": "stream",
     "text": [
      "plaintext = \n",
      " 60262567316952609151377923976880752440\n",
      "ciphertext = \n",
      " 182295843154532291710295892344969575214\n",
      "decrypted = \n",
      " 60262567316952609151377923976880752440\n"
     ]
    }
   ],
   "source": [
    "plaintext1 = int(res[1],16)^encrypted0#0x2d5625f67936ecb900909435f8b08738\n",
    "new = AES10(master_key)\n",
    "encrypted1 = new.encrypt(plaintext1)\n",
    "print(\"plaintext = \\n\",plaintext1)\n",
    "print(\"ciphertext = \\n\",encrypted1)\n",
    "decrypted1 = new.decrypt(encrypted1)\n",
    "print(\"decrypted = \\n\", decrypted1)"
   ]
  },
  {
   "cell_type": "code",
   "execution_count": 218,
   "id": "3d05af15",
   "metadata": {},
   "outputs": [
    {
     "data": {
      "text/plain": [
       "'0x507974686f6e20697320746865204265'"
      ]
     },
     "execution_count": 218,
     "metadata": {},
     "output_type": "execute_result"
    }
   ],
   "source": [
    "fd0 = hex(decrypted0)\n",
    "fd0"
   ]
  },
  {
   "cell_type": "code",
   "execution_count": 219,
   "id": "62addfbd",
   "metadata": {},
   "outputs": [
    {
     "data": {
      "text/plain": [
       "'0x7374204c616e67756167652104040404'"
      ]
     },
     "execution_count": 219,
     "metadata": {},
     "output_type": "execute_result"
    }
   ],
   "source": [
    "fd1 = hex(decrypted1 ^ encrypted0)\n",
    "fd1"
   ]
  },
  {
   "cell_type": "code",
   "execution_count": 220,
   "id": "bbb8a6f0",
   "metadata": {},
   "outputs": [],
   "source": [
    "s = fd0[2:]+fd1[2:]#'507974686f6e206973207468652042657374204c616e67756167652104040404'"
   ]
  },
  {
   "cell_type": "code",
   "execution_count": 221,
   "id": "7f6e97b1",
   "metadata": {},
   "outputs": [
    {
     "data": {
      "text/plain": [
       "b'Python is the Best Language!\\x04\\x04\\x04\\x04'"
      ]
     },
     "execution_count": 221,
     "metadata": {},
     "output_type": "execute_result"
    }
   ],
   "source": [
    "s = bytes.fromhex(s)\n",
    "s"
   ]
  },
  {
   "cell_type": "code",
   "execution_count": 223,
   "id": "cc7fa746",
   "metadata": {},
   "outputs": [
    {
     "data": {
      "text/plain": [
       "b'Python is the Best Language!'"
      ]
     },
     "execution_count": 223,
     "metadata": {},
     "output_type": "execute_result"
    }
   ],
   "source": [
    "unpad(s,AES.block_size)"
   ]
  },
  {
   "cell_type": "code",
   "execution_count": null,
   "id": "0782f45c",
   "metadata": {},
   "outputs": [],
   "source": []
  },
  {
   "cell_type": "code",
   "execution_count": null,
   "id": "af2874d5",
   "metadata": {},
   "outputs": [],
   "source": []
  },
  {
   "cell_type": "code",
   "execution_count": null,
   "id": "21599119",
   "metadata": {},
   "outputs": [],
   "source": []
  },
  {
   "cell_type": "code",
   "execution_count": null,
   "id": "fb11dbb0",
   "metadata": {},
   "outputs": [],
   "source": []
  },
  {
   "cell_type": "code",
   "execution_count": 236,
   "id": "bc0f745e",
   "metadata": {},
   "outputs": [],
   "source": [
    "#FINAL CHECK FOR AES10\n",
    "#FINAL CHECK FOR AES10\n",
    "#FINAL CHECK FOR AES10\n",
    "#FINAL CHECK FOR AES10"
   ]
  },
  {
   "cell_type": "code",
   "execution_count": null,
   "id": "4a2f4021",
   "metadata": {},
   "outputs": [],
   "source": [
    "#now developing the same as above using IV"
   ]
  },
  {
   "cell_type": "code",
   "execution_count": 227,
   "id": "024d0ac3",
   "metadata": {},
   "outputs": [
    {
     "data": {
      "text/plain": [
       "b'\\x1b\\xd8\\x12\\x199w\\xe1\\x1d'"
      ]
     },
     "execution_count": 227,
     "metadata": {},
     "output_type": "execute_result"
    }
   ],
   "source": [
    "from Crypto.Random import get_random_bytes\n",
    "IV = get_random_bytes(8)\n",
    "IV"
   ]
  },
  {
   "cell_type": "code",
   "execution_count": 228,
   "id": "65bed3ce",
   "metadata": {},
   "outputs": [
    {
     "data": {
      "text/plain": [
       "'1bd812193977e11d'"
      ]
     },
     "execution_count": 228,
     "metadata": {},
     "output_type": "execute_result"
    }
   ],
   "source": [
    "IV = base64_to_hex(base64_encode(IV))\n",
    "IV"
   ]
  },
  {
   "cell_type": "code",
   "execution_count": 229,
   "id": "0a701102",
   "metadata": {},
   "outputs": [],
   "source": [
    "import sys\n",
    "from aes10 import AES as AES10\n",
    "from Crypto.Cipher import AES\n",
    "from Crypto.Util.Padding import pad, unpad\n",
    "#plaintext\n",
    "plaintext = b'Python is the Best Language!'\n",
    "#padding\n",
    "s = pad(plaintext, AES.block_size)\n",
    "s = base64_to_hex(base64_encode(s))\n",
    "res = split_into_128bits(s)\n",
    "master_key = 0x3c7e155628aed2a6abf7158809cf4f3d"
   ]
  },
  {
   "cell_type": "code",
   "execution_count": 230,
   "id": "37fd16a6",
   "metadata": {},
   "outputs": [
    {
     "name": "stdout",
     "output_type": "stream",
     "text": [
      "plaintext = \n",
      " 106968868616404880043143442105036678008\n",
      "ciphertext = \n",
      " 143833528391381917523895819109769018103\n",
      "decrypted = \n",
      " 106968868616404880043143442105036678008\n"
     ]
    }
   ],
   "source": [
    "plaintext0 = int(res[0],16)^int(IV,16)#0x507974686f6e20697320746865204265\n",
    "new = AES10(master_key)\n",
    "encrypted0 = new.encrypt(plaintext0)\n",
    "decrypted0 = new.decrypt(encrypted0)\n",
    "print(\"plaintext = \\n\",plaintext0)\n",
    "print(\"ciphertext = \\n\",encrypted0)\n",
    "print(\"decrypted = \\n\", decrypted0)"
   ]
  },
  {
   "cell_type": "code",
   "execution_count": 231,
   "id": "5b36162f",
   "metadata": {},
   "outputs": [
    {
     "name": "stdout",
     "output_type": "stream",
     "text": [
      "plaintext = \n",
      " 41545924591550865803080220778580541171\n",
      "ciphertext = \n",
      " 45029005293069664806410150278445709398\n",
      "decrypted = \n",
      " 41545924591550865803080220778580541171\n"
     ]
    }
   ],
   "source": [
    "plaintext1 = int(res[1],16)^encrypted0#0x2d5625f67936ecb900909435f8b08738\n",
    "new = AES10(master_key)\n",
    "encrypted1 = new.encrypt(plaintext1)\n",
    "print(\"plaintext = \\n\",plaintext1)\n",
    "print(\"ciphertext = \\n\",encrypted1)\n",
    "decrypted1 = new.decrypt(encrypted1)\n",
    "print(\"decrypted = \\n\", decrypted1)"
   ]
  },
  {
   "cell_type": "code",
   "execution_count": 232,
   "id": "da9929ab",
   "metadata": {},
   "outputs": [
    {
     "data": {
      "text/plain": [
       "'0x507974686f6e20697320746865204265'"
      ]
     },
     "execution_count": 232,
     "metadata": {},
     "output_type": "execute_result"
    }
   ],
   "source": [
    "fd0 = hex(decrypted0 ^ int(IV,16))\n",
    "fd0"
   ]
  },
  {
   "cell_type": "code",
   "execution_count": 233,
   "id": "52ef462f",
   "metadata": {},
   "outputs": [
    {
     "data": {
      "text/plain": [
       "'0x7374204c616e67756167652104040404'"
      ]
     },
     "execution_count": 233,
     "metadata": {},
     "output_type": "execute_result"
    }
   ],
   "source": [
    "fd1 = hex(decrypted1 ^ encrypted0)\n",
    "fd1"
   ]
  },
  {
   "cell_type": "code",
   "execution_count": 234,
   "id": "23555d74",
   "metadata": {},
   "outputs": [
    {
     "data": {
      "text/plain": [
       "b'Python is the Best Language!'"
      ]
     },
     "execution_count": 234,
     "metadata": {},
     "output_type": "execute_result"
    }
   ],
   "source": [
    "s = fd0[2:]+fd1[2:]\n",
    "s = bytes.fromhex(s)\n",
    "unpad(s,AES.block_size)"
   ]
  },
  {
   "cell_type": "code",
   "execution_count": null,
   "id": "c51211c2",
   "metadata": {},
   "outputs": [],
   "source": []
  },
  {
   "cell_type": "code",
   "execution_count": null,
   "id": "341d411b",
   "metadata": {},
   "outputs": [],
   "source": []
  },
  {
   "cell_type": "code",
   "execution_count": null,
   "id": "b4b9a2c7",
   "metadata": {},
   "outputs": [],
   "source": []
  },
  {
   "cell_type": "code",
   "execution_count": null,
   "id": "00986930",
   "metadata": {},
   "outputs": [],
   "source": []
  },
  {
   "cell_type": "code",
   "execution_count": null,
   "id": "3577de00",
   "metadata": {},
   "outputs": [],
   "source": []
  },
  {
   "cell_type": "code",
   "execution_count": 244,
   "id": "61f1fdbe",
   "metadata": {},
   "outputs": [
    {
     "name": "stdout",
     "output_type": "stream",
     "text": [
      "IV =  b'\\x96\\x12\\x94s\\xb6\\xe4\\xc3\\xa8'\n"
     ]
    },
    {
     "data": {
      "text/plain": [
       "b'Python is the Best Language!'"
      ]
     },
     "execution_count": 244,
     "metadata": {},
     "output_type": "execute_result"
    }
   ],
   "source": [
    "from Crypto.Random import get_random_bytes\n",
    "import sys\n",
    "from aes10 import AES as AES10\n",
    "from Crypto.Cipher import AES\n",
    "from Crypto.Util.Padding import pad, unpad\n",
    "\n",
    "#generating IV and converting it into hex\n",
    "IV = get_random_bytes(8)\n",
    "print(\"IV = \",IV)\n",
    "IV = base64_to_hex(base64_encode(IV))\n",
    "\n",
    "#plaintext\n",
    "plaintext = b'Python is the Best Language!'\n",
    "#padding\n",
    "s = pad(plaintext, AES.block_size)\n",
    "s = base64_to_hex(base64_encode(s))\n",
    "res = split_into_128bits(s)\n",
    "master_key = 0x3c7e155628aed2a6abf7158809cf4f3d\n",
    "plaintext0 = int(res[0],16)^int(IV,16)#0x507974686f6e20697320746865204265\n",
    "new = AES10(master_key)\n",
    "encrypted0 = new.encrypt(plaintext0)\n",
    "decrypted0 = new.decrypt(encrypted0)\n",
    "# print(\"plaintext = \\n\",plaintext0)\n",
    "# print(\"ciphertext = \\n\",encrypted0)\n",
    "# print(\"decrypted = \\n\", decrypted0)\n",
    "\n",
    "plaintext1 = int(res[1],16)^encrypted0#0x2d5625f67936ecb900909435f8b08738\n",
    "new = AES10(master_key)\n",
    "encrypted1 = new.encrypt(plaintext1)\n",
    "decrypted1 = new.decrypt(encrypted1)\n",
    "# print(\"plaintext = \\n\",plaintext1)\n",
    "# print(\"ciphertext = \\n\",encrypted1)\n",
    "# print(\"decrypted = \\n\", decrypted1)\n",
    "\n",
    "fd0 = hex(decrypted0 ^ int(IV,16))\n",
    "fd1 = hex(decrypted1 ^ encrypted0)\n",
    "\n",
    "s = fd0[2:]+fd1[2:]\n",
    "s = bytes.fromhex(s)\n",
    "unpad(s,AES.block_size)"
   ]
  },
  {
   "cell_type": "code",
   "execution_count": null,
   "id": "f1238f1f",
   "metadata": {},
   "outputs": [],
   "source": []
  },
  {
   "cell_type": "code",
   "execution_count": null,
   "id": "291d01b7",
   "metadata": {},
   "outputs": [],
   "source": []
  },
  {
   "cell_type": "code",
   "execution_count": null,
   "id": "4cbf9b87",
   "metadata": {},
   "outputs": [],
   "source": []
  },
  {
   "cell_type": "code",
   "execution_count": null,
   "id": "2cfc91e6",
   "metadata": {},
   "outputs": [],
   "source": []
  },
  {
   "cell_type": "code",
   "execution_count": null,
   "id": "bf2a4b65",
   "metadata": {},
   "outputs": [],
   "source": []
  },
  {
   "cell_type": "code",
   "execution_count": 280,
   "id": "6bc90b14",
   "metadata": {},
   "outputs": [
    {
     "name": "stdout",
     "output_type": "stream",
     "text": [
      "b'Python is the Best Language. This has been the trend for the past 10 years or so!'\n"
     ]
    }
   ],
   "source": [
    "from Crypto.Random import get_random_bytes\n",
    "import sys\n",
    "from aes10 import AES as AES10\n",
    "from Crypto.Cipher import AES\n",
    "from Crypto.Util.Padding import pad, unpad\n",
    "\n",
    "def encrypt_AES10(plaintext, IV, key):\n",
    "    \"\"\"\n",
    "    plaintext and IV as bytestring\n",
    "    key in hex format\n",
    "    \"\"\"\n",
    "    IV = base64_to_hex(base64_encode(IV))\n",
    "    s = pad(plaintext, AES.block_size)\n",
    "    s = base64_to_hex(base64_encode(s))\n",
    "    res = split_into_128bits(s)\n",
    "    new = AES10(key)\n",
    "    #master_key = 0x3c7e155628aed2a6abf7158809cf4f3d\n",
    "    plaintext = []\n",
    "    encrypted = []\n",
    "    n = len(res)\n",
    "    for i in range(n):\n",
    "        if(i==0):\n",
    "            plaintext.append(int(res[i],16)^int(IV,16))\n",
    "        else:\n",
    "            #print(i,len(res))\n",
    "            plaintext.append(int(res[i],16)^encrypted[i-1])\n",
    "        encrypted.append(new.encrypt(plaintext[i]))\n",
    "    return IV, encrypted\n",
    "\n",
    "def decrypt_AES10(IV, encrypted, key):\n",
    "    n = len(encrypted)\n",
    "    new = AES10(key)\n",
    "    decrypted = []\n",
    "    res = []\n",
    "    for i in range(n):\n",
    "        decrypted.append(new.decrypt(encrypted[i]))        \n",
    "        if(i==0):\n",
    "            res.append(hex(decrypted[i] ^ int(IV,16)))\n",
    "        else:\n",
    "            res.append(hex(decrypted[i]^encrypted[i-1]))\n",
    "    s = \"\".join(i[2:] for i in res)\n",
    "    s = bytes.fromhex(s)\n",
    "    return(unpad(s,AES.block_size))\n",
    "\n",
    "\n",
    "plaintext1 = b'Python is the Best Language!'\n",
    "plaintext = b'Python is the Best Language. This has been the trend for the past 10 years or so!'\n",
    "IV = get_random_bytes(8)\n",
    "key = 0x3c7e155628aed2a6abf7158809cf4f3d\n",
    "enc_res = encrypt_AES10(plaintext,IV,key)\n",
    "\n",
    "dec_res = decrypt_AES10(enc_res[0],enc_res[1],key)\n",
    "print(dec_res)"
   ]
  },
  {
   "cell_type": "code",
   "execution_count": null,
   "id": "8d1d4763",
   "metadata": {},
   "outputs": [],
   "source": []
  },
  {
   "cell_type": "code",
   "execution_count": null,
   "id": "43e3e435",
   "metadata": {},
   "outputs": [],
   "source": []
  },
  {
   "cell_type": "code",
   "execution_count": null,
   "id": "08c4223e",
   "metadata": {},
   "outputs": [],
   "source": []
  },
  {
   "cell_type": "code",
   "execution_count": null,
   "id": "59ee9c1f",
   "metadata": {},
   "outputs": [],
   "source": []
  },
  {
   "cell_type": "code",
   "execution_count": null,
   "id": "8046c36f",
   "metadata": {},
   "outputs": [],
   "source": [
    "#round-10 final"
   ]
  },
  {
   "cell_type": "code",
   "execution_count": 284,
   "id": "2a2302cf",
   "metadata": {},
   "outputs": [
    {
     "name": "stdout",
     "output_type": "stream",
     "text": [
      "b'Python is the Best Language. This has been the trend for the past 10 years or so!'\n"
     ]
    }
   ],
   "source": [
    "from Crypto.Random import get_random_bytes\n",
    "import sys\n",
    "from aes10 import AES as AES_mod\n",
    "from Crypto.Cipher import AES\n",
    "from Crypto.Util.Padding import pad, unpad\n",
    "\n",
    "def encrypt_AES(plaintext, IV, key):\n",
    "    \"\"\"\n",
    "    plaintext and IV as bytestring\n",
    "    key in hex format\n",
    "    \"\"\"\n",
    "    IV = base64_to_hex(base64_encode(IV))\n",
    "    s = pad(plaintext, AES.block_size)\n",
    "    s = base64_to_hex(base64_encode(s))\n",
    "    res = split_into_128bits(s)\n",
    "    new = AES_mod(key)\n",
    "    #master_key = 0x3c7e155628aed2a6abf7158809cf4f3d\n",
    "    plaintext = []\n",
    "    encrypted = []\n",
    "    n = len(res)\n",
    "    for i in range(n):\n",
    "        if(i==0):\n",
    "            plaintext.append(int(res[i],16)^int(IV,16))\n",
    "        else:\n",
    "            #print(i,len(res))\n",
    "            plaintext.append(int(res[i],16)^encrypted[i-1])\n",
    "        encrypted.append(new.encrypt(plaintext[i]))\n",
    "    return IV, encrypted\n",
    "\n",
    "def decrypt_AES(IV, encrypted, key):\n",
    "    n = len(encrypted)\n",
    "    new = AES_mod(key)\n",
    "    decrypted = []\n",
    "    res = []\n",
    "    for i in range(n):\n",
    "        decrypted.append(new.decrypt(encrypted[i]))        \n",
    "        if(i==0):\n",
    "            res.append(hex(decrypted[i] ^ int(IV,16)))\n",
    "        else:\n",
    "            res.append(hex(decrypted[i]^encrypted[i-1]))\n",
    "    s = \"\".join(i[2:] for i in res)\n",
    "    s = bytes.fromhex(s)\n",
    "    return(unpad(s,AES.block_size))\n",
    "\n",
    "\n",
    "plaintext1 = b'Python is the Best Language!'\n",
    "plaintext = b'Python is the Best Language. This has been the trend for the past 10 years or so!'\n",
    "IV = get_random_bytes(8)\n",
    "key = 0x3c7e155628aed2a6abf7158809cf4f3d\n",
    "enc_res = encrypt_AES(plaintext,IV,key)\n",
    "\n",
    "dec_res = decrypt_AES(enc_res[0],enc_res[1],key)\n",
    "print(dec_res)"
   ]
  },
  {
   "cell_type": "code",
   "execution_count": null,
   "id": "6223b240",
   "metadata": {},
   "outputs": [],
   "source": []
  },
  {
   "cell_type": "code",
   "execution_count": null,
   "id": "123a960d",
   "metadata": {},
   "outputs": [],
   "source": []
  },
  {
   "cell_type": "code",
   "execution_count": null,
   "id": "154ca504",
   "metadata": {},
   "outputs": [],
   "source": []
  },
  {
   "cell_type": "code",
   "execution_count": 301,
   "id": "360a76d5",
   "metadata": {},
   "outputs": [],
   "source": [
    "plaintext1 = b'Python is the Best Language!'\n",
    "plaintext = b'Python is the Best Language. This has been the trend for the past 10 years or so!'\n",
    "IV = get_random_bytes(8)\n",
    "key = 0x3c7e155628aed2a6abf7158809cf4f3d"
   ]
  },
  {
   "cell_type": "code",
   "execution_count": 302,
   "id": "7c13caf8",
   "metadata": {},
   "outputs": [
    {
     "name": "stdout",
     "output_type": "stream",
     "text": [
      "AES_CBC_round1_ciphertext : \n",
      "\n",
      "IV :\n",
      " 4d1512490153e0f9 \n",
      "\n",
      "CIPHER TEXT : \n",
      " 7f7d8bf64cf30205aae3fa824b9224f199e703ea7679bb3fd46e624ae9e1f691c250b9a7a3b4cf9de6c2d2bf3137acf253501b58fc34599305580aaaf27c245bb5e965db74a2557f09392501451dd8e8870698aa8390ccc579341f3943e9b960\n"
     ]
    }
   ],
   "source": [
    "#round-1 ciphertext generation\n",
    "from Crypto.Random import get_random_bytes\n",
    "import sys\n",
    "from aes1 import AES as AES_mod\n",
    "from Crypto.Cipher import AES\n",
    "from Crypto.Util.Padding import pad, unpad\n",
    "\n",
    "def encrypt_AES(plaintext, IV, key):\n",
    "    \"\"\"\n",
    "    plaintext and IV as bytestring\n",
    "    key in hex format\n",
    "    \"\"\"\n",
    "    IV = base64_to_hex(base64_encode(IV))\n",
    "    s = pad(plaintext, AES.block_size)\n",
    "    s = base64_to_hex(base64_encode(s))\n",
    "    res = split_into_128bits(s)\n",
    "    new = AES_mod(key)\n",
    "    #master_key = 0x3c7e155628aed2a6abf7158809cf4f3d\n",
    "    plaintext = []\n",
    "    encrypted = []\n",
    "    n = len(res)\n",
    "    for i in range(n):\n",
    "        if(i==0):\n",
    "            plaintext.append(int(res[i],16)^int(IV,16))\n",
    "        else:\n",
    "            #print(i,len(res))\n",
    "            plaintext.append(int(res[i],16)^encrypted[i-1])\n",
    "        encrypted.append(new.encrypt(plaintext[i]))\n",
    "    return IV, encrypted\n",
    "\n",
    "enc_res = encrypt_AES(plaintext,IV,key)\n",
    "\n",
    "#print(enc_res)\n",
    "print(\"AES_CBC_round1_ciphertext : \\n\\nIV :\\n\",enc_res[0],\"\\n\\nCIPHER TEXT : \\n\",\"\".join(hex(i)[2:] for i in enc_res[1]))\n",
    "# dec_res = decrypt_AES(enc_res[0],enc_res[1],key)\n",
    "# print(dec_res)"
   ]
  },
  {
   "cell_type": "code",
   "execution_count": null,
   "id": "5f90204c",
   "metadata": {},
   "outputs": [],
   "source": []
  },
  {
   "cell_type": "code",
   "execution_count": 304,
   "id": "6e67f0cc",
   "metadata": {},
   "outputs": [
    {
     "name": "stdout",
     "output_type": "stream",
     "text": [
      "AES_CBC_round2_ciphertext : \n",
      "\n",
      "IV :\n",
      " 4d1512490153e0f9 \n",
      "\n",
      "CIPHER TEXT : \n",
      " c11054646f495b598ae718b3704911dc7df959e2f1e214c87ecfe9fba21f3456339face80e18799ce6f064ce8c5999871086d7ae5977b6ec79999ca8472615be101d19f7c541533f415aac805fe0ccfd2d99c8fd919f0111ce83dfb448cdef\n"
     ]
    }
   ],
   "source": [
    "#round-2 ciphertext generation\n",
    "from Crypto.Random import get_random_bytes\n",
    "import sys\n",
    "from aes2 import AES as AES_mod\n",
    "from Crypto.Cipher import AES\n",
    "from Crypto.Util.Padding import pad, unpad\n",
    "\n",
    "def encrypt_AES(plaintext, IV, key):\n",
    "    \"\"\"\n",
    "    plaintext and IV as bytestring\n",
    "    key in hex format\n",
    "    \"\"\"\n",
    "    IV = base64_to_hex(base64_encode(IV))\n",
    "    s = pad(plaintext, AES.block_size)\n",
    "    s = base64_to_hex(base64_encode(s))\n",
    "    res = split_into_128bits(s)\n",
    "    new = AES_mod(key)\n",
    "    #master_key = 0x3c7e155628aed2a6abf7158809cf4f3d\n",
    "    plaintext = []\n",
    "    encrypted = []\n",
    "    n = len(res)\n",
    "    for i in range(n):\n",
    "        if(i==0):\n",
    "            plaintext.append(int(res[i],16)^int(IV,16))\n",
    "        else:\n",
    "            #print(i,len(res))\n",
    "            plaintext.append(int(res[i],16)^encrypted[i-1])\n",
    "        encrypted.append(new.encrypt(plaintext[i]))\n",
    "    return IV, encrypted\n",
    "\n",
    "\n",
    "enc_res = encrypt_AES(plaintext,IV,key)\n",
    "\n",
    "#print(enc_res)\n",
    "print(\"AES_CBC_round2_ciphertext : \\n\\nIV :\\n\",enc_res[0],\"\\n\\nCIPHER TEXT : \\n\",\"\".join(hex(i)[2:] for i in enc_res[1]))\n",
    "# dec_res = decrypt_AES(enc_res[0],enc_res[1],key)\n",
    "# print(dec_res)"
   ]
  },
  {
   "cell_type": "code",
   "execution_count": null,
   "id": "418a2c50",
   "metadata": {},
   "outputs": [],
   "source": []
  },
  {
   "cell_type": "code",
   "execution_count": 305,
   "id": "d55647b1",
   "metadata": {},
   "outputs": [
    {
     "name": "stdout",
     "output_type": "stream",
     "text": [
      "AES_CBC_round3_ciphertext : \n",
      "\n",
      "IV :\n",
      " 4d1512490153e0f9 \n",
      "\n",
      "CIPHER TEXT : \n",
      " 5d2edff69c55630da54afa923f8461e0d1a2b33aca8a40a8fb9384f52cbdb4a0d8df68b52c0d4fe64385a9a8b9475d86afc5e368ad691be68e9ada07b5a84d4c3655cd5081d9bf77b79b4177141277b94218d71e68aa16dd428f7c15f6a5a088\n"
     ]
    }
   ],
   "source": [
    "#round-3 ciphertext generation\n",
    "from Crypto.Random import get_random_bytes\n",
    "import sys\n",
    "from aes3 import AES as AES_mod\n",
    "from Crypto.Cipher import AES\n",
    "from Crypto.Util.Padding import pad, unpad\n",
    "\n",
    "def encrypt_AES(plaintext, IV, key):\n",
    "    \"\"\"\n",
    "    plaintext and IV as bytestring\n",
    "    key in hex format\n",
    "    \"\"\"\n",
    "    IV = base64_to_hex(base64_encode(IV))\n",
    "    s = pad(plaintext, AES.block_size)\n",
    "    s = base64_to_hex(base64_encode(s))\n",
    "    res = split_into_128bits(s)\n",
    "    new = AES_mod(key)\n",
    "    #master_key = 0x3c7e155628aed2a6abf7158809cf4f3d\n",
    "    plaintext = []\n",
    "    encrypted = []\n",
    "    n = len(res)\n",
    "    for i in range(n):\n",
    "        if(i==0):\n",
    "            plaintext.append(int(res[i],16)^int(IV,16))\n",
    "        else:\n",
    "            #print(i,len(res))\n",
    "            plaintext.append(int(res[i],16)^encrypted[i-1])\n",
    "        encrypted.append(new.encrypt(plaintext[i]))\n",
    "    return IV, encrypted\n",
    "\n",
    "\n",
    "enc_res = encrypt_AES(plaintext,IV,key)\n",
    "\n",
    "#print(enc_res)\n",
    "print(\"AES_CBC_round3_ciphertext : \\n\\nIV :\\n\",enc_res[0],\"\\n\\nCIPHER TEXT : \\n\",\"\".join(hex(i)[2:] for i in enc_res[1]))\n",
    "# dec_res = decrypt_AES(enc_res[0],enc_res[1],key)\n",
    "# print(dec_res)"
   ]
  },
  {
   "cell_type": "code",
   "execution_count": null,
   "id": "ed743040",
   "metadata": {},
   "outputs": [],
   "source": []
  },
  {
   "cell_type": "code",
   "execution_count": 306,
   "id": "d4bcd669",
   "metadata": {},
   "outputs": [
    {
     "name": "stdout",
     "output_type": "stream",
     "text": [
      "AES_CBC_round4_ciphertext : \n",
      "\n",
      "IV :\n",
      " 4d1512490153e0f9 \n",
      "\n",
      "CIPHER TEXT : \n",
      " 98061e47092e42213910ec1d1cf4b792b0c7a221c8fdfde6dc635c9032694710bcd8f45bb6a9d48cdc9d10e9dc847eebbce51045528e77318186f5a017b1b5245d66fc6eafb835d1937af6c79170ca8b8924c41d4d1de287c3da4f8a5d0de222\n"
     ]
    }
   ],
   "source": [
    "#round-4 ciphertext generation\n",
    "from Crypto.Random import get_random_bytes\n",
    "import sys\n",
    "from aes4 import AES as AES_mod\n",
    "from Crypto.Cipher import AES\n",
    "from Crypto.Util.Padding import pad, unpad\n",
    "\n",
    "def encrypt_AES(plaintext, IV, key):\n",
    "    \"\"\"\n",
    "    plaintext and IV as bytestring\n",
    "    key in hex format\n",
    "    \"\"\"\n",
    "    IV = base64_to_hex(base64_encode(IV))\n",
    "    s = pad(plaintext, AES.block_size)\n",
    "    s = base64_to_hex(base64_encode(s))\n",
    "    res = split_into_128bits(s)\n",
    "    new = AES_mod(key)\n",
    "    #master_key = 0x3c7e155628aed2a6abf7158809cf4f3d\n",
    "    plaintext = []\n",
    "    encrypted = []\n",
    "    n = len(res)\n",
    "    for i in range(n):\n",
    "        if(i==0):\n",
    "            plaintext.append(int(res[i],16)^int(IV,16))\n",
    "        else:\n",
    "            #print(i,len(res))\n",
    "            plaintext.append(int(res[i],16)^encrypted[i-1])\n",
    "        encrypted.append(new.encrypt(plaintext[i]))\n",
    "    return IV, encrypted\n",
    "\n",
    "\n",
    "enc_res = encrypt_AES(plaintext,IV,key)\n",
    "\n",
    "#print(enc_res)\n",
    "print(\"AES_CBC_round4_ciphertext : \\n\\nIV :\\n\",enc_res[0],\"\\n\\nCIPHER TEXT : \\n\",\"\".join(hex(i)[2:] for i in enc_res[1]))\n",
    "# dec_res = decrypt_AES(enc_res[0],enc_res[1],key)\n",
    "# print(dec_res)"
   ]
  },
  {
   "cell_type": "code",
   "execution_count": null,
   "id": "8d88b802",
   "metadata": {},
   "outputs": [],
   "source": []
  },
  {
   "cell_type": "code",
   "execution_count": 307,
   "id": "39c61908",
   "metadata": {},
   "outputs": [
    {
     "name": "stdout",
     "output_type": "stream",
     "text": [
      "AES_CBC_round5_ciphertext : \n",
      "\n",
      "IV :\n",
      " 4d1512490153e0f9 \n",
      "\n",
      "CIPHER TEXT : \n",
      " 699726b21b5437c7b940eb85c3742d69f72e3df6a87317ad0ccb056c883d9029a6e89b8291679b82f3f4b0034a4aeedc76e1e0f5a23a72327786857cbaf619711710affce6d73520897cdaed18f95e5422af9d375d5885b055f3a9277b4e3e9\n"
     ]
    }
   ],
   "source": [
    "#round-5 ciphertext generation\n",
    "from Crypto.Random import get_random_bytes\n",
    "import sys\n",
    "from aes5 import AES as AES_mod\n",
    "from Crypto.Cipher import AES\n",
    "from Crypto.Util.Padding import pad, unpad\n",
    "\n",
    "def encrypt_AES(plaintext, IV, key):\n",
    "    \"\"\"\n",
    "    plaintext and IV as bytestring\n",
    "    key in hex format\n",
    "    \"\"\"\n",
    "    IV = base64_to_hex(base64_encode(IV))\n",
    "    s = pad(plaintext, AES.block_size)\n",
    "    s = base64_to_hex(base64_encode(s))\n",
    "    res = split_into_128bits(s)\n",
    "    new = AES_mod(key)\n",
    "    #master_key = 0x3c7e155628aed2a6abf7158809cf4f3d\n",
    "    plaintext = []\n",
    "    encrypted = []\n",
    "    n = len(res)\n",
    "    for i in range(n):\n",
    "        if(i==0):\n",
    "            plaintext.append(int(res[i],16)^int(IV,16))\n",
    "        else:\n",
    "            #print(i,len(res))\n",
    "            plaintext.append(int(res[i],16)^encrypted[i-1])\n",
    "        encrypted.append(new.encrypt(plaintext[i]))\n",
    "    return IV, encrypted\n",
    "\n",
    "\n",
    "enc_res = encrypt_AES(plaintext,IV,key)\n",
    "\n",
    "#print(enc_res)\n",
    "print(\"AES_CBC_round5_ciphertext : \\n\\nIV :\\n\",enc_res[0],\"\\n\\nCIPHER TEXT : \\n\",\"\".join(hex(i)[2:] for i in enc_res[1]))\n",
    "# dec_res = decrypt_AES(enc_res[0],enc_res[1],key)\n",
    "# print(dec_res)"
   ]
  },
  {
   "cell_type": "code",
   "execution_count": null,
   "id": "0df94822",
   "metadata": {},
   "outputs": [],
   "source": []
  },
  {
   "cell_type": "code",
   "execution_count": 308,
   "id": "cc1c300c",
   "metadata": {},
   "outputs": [
    {
     "name": "stdout",
     "output_type": "stream",
     "text": [
      "AES_CBC_round6_ciphertext : \n",
      "\n",
      "IV :\n",
      " 4d1512490153e0f9 \n",
      "\n",
      "CIPHER TEXT : \n",
      " 76b31c7d75a985347d23470f3119dc9928c692f86e40980069dd428143019cd1c0e970fb93148017573e517924989d9d85b17a11d589fde41684f5c2cf23d4def4f1272ba933018deb595ee7b113e6bcdcc4f859e63672c44d2fa23278cf9\n"
     ]
    }
   ],
   "source": [
    "#round-6 ciphertext generation\n",
    "from Crypto.Random import get_random_bytes\n",
    "import sys\n",
    "from aes6 import AES as AES_mod\n",
    "from Crypto.Cipher import AES\n",
    "from Crypto.Util.Padding import pad, unpad\n",
    "\n",
    "def encrypt_AES(plaintext, IV, key):\n",
    "    \"\"\"\n",
    "    plaintext and IV as bytestring\n",
    "    key in hex format\n",
    "    \"\"\"\n",
    "    IV = base64_to_hex(base64_encode(IV))\n",
    "    s = pad(plaintext, AES.block_size)\n",
    "    s = base64_to_hex(base64_encode(s))\n",
    "    res = split_into_128bits(s)\n",
    "    new = AES_mod(key)\n",
    "    #master_key = 0x3c7e155628aed2a6abf7158809cf4f3d\n",
    "    plaintext = []\n",
    "    encrypted = []\n",
    "    n = len(res)\n",
    "    for i in range(n):\n",
    "        if(i==0):\n",
    "            plaintext.append(int(res[i],16)^int(IV,16))\n",
    "        else:\n",
    "            #print(i,len(res))\n",
    "            plaintext.append(int(res[i],16)^encrypted[i-1])\n",
    "        encrypted.append(new.encrypt(plaintext[i]))\n",
    "    return IV, encrypted\n",
    "\n",
    "\n",
    "enc_res = encrypt_AES(plaintext,IV,key)\n",
    "\n",
    "#print(enc_res)\n",
    "print(\"AES_CBC_round6_ciphertext : \\n\\nIV :\\n\",enc_res[0],\"\\n\\nCIPHER TEXT : \\n\",\"\".join(hex(i)[2:] for i in enc_res[1]))\n",
    "# dec_res = decrypt_AES(enc_res[0],enc_res[1],key)\n",
    "# print(dec_res)"
   ]
  },
  {
   "cell_type": "code",
   "execution_count": null,
   "id": "3667d42e",
   "metadata": {},
   "outputs": [],
   "source": []
  },
  {
   "cell_type": "code",
   "execution_count": 309,
   "id": "698337d3",
   "metadata": {},
   "outputs": [
    {
     "name": "stdout",
     "output_type": "stream",
     "text": [
      "AES_CBC_round7_ciphertext : \n",
      "\n",
      "IV :\n",
      " 4d1512490153e0f9 \n",
      "\n",
      "CIPHER TEXT : \n",
      " 69b37e4a758e52f8cc40dc51e9790d1ba433e28204b21a6e1dfc5e1921a3715dd751d5295fb3b7cbc604b77b9a57e1a54c1350587bb2ec126edc039eeea9e91b19e4ac84d488f9947fe485f2b4091e1bdb93f5adfd8fb25cf4eb60f4924c8c1\n"
     ]
    }
   ],
   "source": [
    "#round-7 ciphertext generation\n",
    "from Crypto.Random import get_random_bytes\n",
    "import sys\n",
    "from aes7 import AES as AES_mod\n",
    "from Crypto.Cipher import AES\n",
    "from Crypto.Util.Padding import pad, unpad\n",
    "\n",
    "def encrypt_AES(plaintext, IV, key):\n",
    "    \"\"\"\n",
    "    plaintext and IV as bytestring\n",
    "    key in hex format\n",
    "    \"\"\"\n",
    "    IV = base64_to_hex(base64_encode(IV))\n",
    "    s = pad(plaintext, AES.block_size)\n",
    "    s = base64_to_hex(base64_encode(s))\n",
    "    res = split_into_128bits(s)\n",
    "    new = AES_mod(key)\n",
    "    #master_key = 0x3c7e155628aed2a6abf7158809cf4f3d\n",
    "    plaintext = []\n",
    "    encrypted = []\n",
    "    n = len(res)\n",
    "    for i in range(n):\n",
    "        if(i==0):\n",
    "            plaintext.append(int(res[i],16)^int(IV,16))\n",
    "        else:\n",
    "            #print(i,len(res))\n",
    "            plaintext.append(int(res[i],16)^encrypted[i-1])\n",
    "        encrypted.append(new.encrypt(plaintext[i]))\n",
    "    return IV, encrypted\n",
    "\n",
    "\n",
    "enc_res = encrypt_AES(plaintext,IV,key)\n",
    "\n",
    "#print(enc_res)\n",
    "print(\"AES_CBC_round7_ciphertext : \\n\\nIV :\\n\",enc_res[0],\"\\n\\nCIPHER TEXT : \\n\",\"\".join(hex(i)[2:] for i in enc_res[1]))\n",
    "# dec_res = decrypt_AES(enc_res[0],enc_res[1],key)\n",
    "# print(dec_res)"
   ]
  },
  {
   "cell_type": "code",
   "execution_count": null,
   "id": "eb71ab8e",
   "metadata": {},
   "outputs": [],
   "source": []
  },
  {
   "cell_type": "code",
   "execution_count": 310,
   "id": "0f85c593",
   "metadata": {},
   "outputs": [
    {
     "name": "stdout",
     "output_type": "stream",
     "text": [
      "AES_CBC_round8_ciphertext : \n",
      "\n",
      "IV :\n",
      " 4d1512490153e0f9 \n",
      "\n",
      "CIPHER TEXT : \n",
      " 1a94e9401667c947536ca4ebf970fe8887b5ba718d3dab78bd3678997881e25415f0799fd599f271fb7c4633be81ba78890fdcc0e1c4f2c1e6c46ad55f1e93d97dc1945409a8c47d1af71aeab28ff992a8ad6ae8bbac22682f997d14f53e9e\n"
     ]
    }
   ],
   "source": [
    "#round-8 ciphertext generation\n",
    "from Crypto.Random import get_random_bytes\n",
    "import sys\n",
    "from aes8 import AES as AES_mod\n",
    "from Crypto.Cipher import AES\n",
    "from Crypto.Util.Padding import pad, unpad\n",
    "\n",
    "def encrypt_AES(plaintext, IV, key):\n",
    "    \"\"\"\n",
    "    plaintext and IV as bytestring\n",
    "    key in hex format\n",
    "    \"\"\"\n",
    "    IV = base64_to_hex(base64_encode(IV))\n",
    "    s = pad(plaintext, AES.block_size)\n",
    "    s = base64_to_hex(base64_encode(s))\n",
    "    res = split_into_128bits(s)\n",
    "    new = AES_mod(key)\n",
    "    #master_key = 0x3c7e155628aed2a6abf7158809cf4f3d\n",
    "    plaintext = []\n",
    "    encrypted = []\n",
    "    n = len(res)\n",
    "    for i in range(n):\n",
    "        if(i==0):\n",
    "            plaintext.append(int(res[i],16)^int(IV,16))\n",
    "        else:\n",
    "            #print(i,len(res))\n",
    "            plaintext.append(int(res[i],16)^encrypted[i-1])\n",
    "        encrypted.append(new.encrypt(plaintext[i]))\n",
    "    return IV, encrypted\n",
    "\n",
    "\n",
    "enc_res = encrypt_AES(plaintext,IV,key)\n",
    "\n",
    "#print(enc_res)\n",
    "print(\"AES_CBC_round8_ciphertext : \\n\\nIV :\\n\",enc_res[0],\"\\n\\nCIPHER TEXT : \\n\",\"\".join(hex(i)[2:] for i in enc_res[1]))\n",
    "# dec_res = decrypt_AES(enc_res[0],enc_res[1],key)\n",
    "# print(dec_res)"
   ]
  },
  {
   "cell_type": "code",
   "execution_count": null,
   "id": "dcf4e4fe",
   "metadata": {},
   "outputs": [],
   "source": []
  },
  {
   "cell_type": "code",
   "execution_count": 311,
   "id": "bc10700e",
   "metadata": {},
   "outputs": [
    {
     "name": "stdout",
     "output_type": "stream",
     "text": [
      "AES_CBC_round9_ciphertext : \n",
      "\n",
      "IV :\n",
      " 4d1512490153e0f9 \n",
      "\n",
      "CIPHER TEXT : \n",
      " 7e65a6ca773bd755a06d952209141418439304d43924297a3edbe668a5edfe616e8aa986535da6b68f0358dfa36f8e5794f5d3c95d43449b61f83d804531e34d29b51f91091935f2df7c98f70e6bb51116083b68be644caecab0bdb5c14d7ba7\n"
     ]
    }
   ],
   "source": [
    "#round-9 ciphertext generation\n",
    "from Crypto.Random import get_random_bytes\n",
    "import sys\n",
    "from aes9 import AES as AES_mod\n",
    "from Crypto.Cipher import AES\n",
    "from Crypto.Util.Padding import pad, unpad\n",
    "\n",
    "def encrypt_AES(plaintext, IV, key):\n",
    "    \"\"\"\n",
    "    plaintext and IV as bytestring\n",
    "    key in hex format\n",
    "    \"\"\"\n",
    "    IV = base64_to_hex(base64_encode(IV))\n",
    "    s = pad(plaintext, AES.block_size)\n",
    "    s = base64_to_hex(base64_encode(s))\n",
    "    res = split_into_128bits(s)\n",
    "    new = AES_mod(key)\n",
    "    #master_key = 0x3c7e155628aed2a6abf7158809cf4f3d\n",
    "    plaintext = []\n",
    "    encrypted = []\n",
    "    n = len(res)\n",
    "    for i in range(n):\n",
    "        if(i==0):\n",
    "            plaintext.append(int(res[i],16)^int(IV,16))\n",
    "        else:\n",
    "            #print(i,len(res))\n",
    "            plaintext.append(int(res[i],16)^encrypted[i-1])\n",
    "        encrypted.append(new.encrypt(plaintext[i]))\n",
    "    return IV, encrypted\n",
    "\n",
    "\n",
    "enc_res = encrypt_AES(plaintext,IV,key)\n",
    "\n",
    "#print(enc_res)\n",
    "print(\"AES_CBC_round9_ciphertext : \\n\\nIV :\\n\",enc_res[0],\"\\n\\nCIPHER TEXT : \\n\",\"\".join(hex(i)[2:] for i in enc_res[1]))\n",
    "# dec_res = decrypt_AES(enc_res[0],enc_res[1],key)\n",
    "# print(dec_res)"
   ]
  },
  {
   "cell_type": "code",
   "execution_count": null,
   "id": "15a30fad",
   "metadata": {},
   "outputs": [],
   "source": []
  },
  {
   "cell_type": "code",
   "execution_count": 313,
   "id": "fa1e49f0",
   "metadata": {},
   "outputs": [
    {
     "name": "stdout",
     "output_type": "stream",
     "text": [
      "AES_CBC_round9_ciphertext : \n",
      "\n",
      "IV :\n",
      " 4d1512490153e0f9 \n",
      "\n",
      "CIPHER TEXT : \n",
      " b71a65850ac7033933a133aba04a375a6727f1bdadee32c25dead198bbf92444fb33520c8df28eaf8f7e29c6b5cb1f7fb7da57f3ccf2b0c1e15180db591bb00a7d8b10295ce54881cdfa18c31d531027569f46755effbb02029807d5751d6c1\n",
      "\n",
      "DECRYPTED TEXT:\n",
      "b'Python is the Best Language. This has been the trend for the past 10 years or so!'\n"
     ]
    }
   ],
   "source": [
    "from Crypto.Random import get_random_bytes\n",
    "import sys\n",
    "from aes10 import AES as AES_mod\n",
    "from Crypto.Cipher import AES\n",
    "from Crypto.Util.Padding import pad, unpad\n",
    "\n",
    "def encrypt_AES(plaintext, IV, key):\n",
    "    \"\"\"\n",
    "    plaintext and IV as bytestring\n",
    "    key in hex format\n",
    "    \"\"\"\n",
    "    IV = base64_to_hex(base64_encode(IV))\n",
    "    s = pad(plaintext, AES.block_size)\n",
    "    s = base64_to_hex(base64_encode(s))\n",
    "    res = split_into_128bits(s)\n",
    "    new = AES_mod(key)\n",
    "    #master_key = 0x3c7e155628aed2a6abf7158809cf4f3d\n",
    "    plaintext = []\n",
    "    encrypted = []\n",
    "    n = len(res)\n",
    "    for i in range(n):\n",
    "        if(i==0):\n",
    "            plaintext.append(int(res[i],16)^int(IV,16))\n",
    "        else:\n",
    "            #print(i,len(res))\n",
    "            plaintext.append(int(res[i],16)^encrypted[i-1])\n",
    "        encrypted.append(new.encrypt(plaintext[i]))\n",
    "    return IV, encrypted\n",
    "\n",
    "def decrypt_AES(IV, encrypted, key):\n",
    "    n = len(encrypted)\n",
    "    new = AES_mod(key)\n",
    "    decrypted = []\n",
    "    res = []\n",
    "    for i in range(n):\n",
    "        decrypted.append(new.decrypt(encrypted[i]))        \n",
    "        if(i==0):\n",
    "            res.append(hex(decrypted[i] ^ int(IV,16)))\n",
    "        else:\n",
    "            res.append(hex(decrypted[i]^encrypted[i-1]))\n",
    "    s = \"\".join(i[2:] for i in res)\n",
    "    s = bytes.fromhex(s)\n",
    "    return(unpad(s,AES.block_size))\n",
    "\n",
    "\n",
    "enc_res = encrypt_AES(plaintext,IV,key)\n",
    "print(\"AES_CBC_round9_ciphertext : \\n\\nIV :\\n\",enc_res[0],\"\\n\\nCIPHER TEXT : \\n\",\"\".join(hex(i)[2:] for i in enc_res[1]))\n",
    "\n",
    "dec_res = decrypt_AES(enc_res[0],enc_res[1],key)\n",
    "print(\"\\nDECRYPTED TEXT:\")\n",
    "print(dec_res)"
   ]
  },
  {
   "cell_type": "code",
   "execution_count": null,
   "id": "3f279a87",
   "metadata": {},
   "outputs": [],
   "source": []
  }
 ],
 "metadata": {
  "kernelspec": {
   "display_name": "Python 3 (ipykernel)",
   "language": "python",
   "name": "python3"
  },
  "language_info": {
   "codemirror_mode": {
    "name": "ipython",
    "version": 3
   },
   "file_extension": ".py",
   "mimetype": "text/x-python",
   "name": "python",
   "nbconvert_exporter": "python",
   "pygments_lexer": "ipython3",
   "version": "3.9.13"
  }
 },
 "nbformat": 4,
 "nbformat_minor": 5
}
