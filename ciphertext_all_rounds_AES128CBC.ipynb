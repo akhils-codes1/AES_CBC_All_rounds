{
 "cells": [
  {
   "cell_type": "code",
   "execution_count": 1,
   "id": "a85caa46",
   "metadata": {},
   "outputs": [],
   "source": [
    "from base64 import b64encode, b64decode\n",
    "\n",
    "def hex_to_base64(s):\n",
    "    b64 = b64encode(bytes.fromhex(s)).decode()\n",
    "    return b64\n",
    "\n",
    "def base64_to_hex(b64):\n",
    "    s2 = b64decode(b64.encode()).hex()\n",
    "    return s2"
   ]
  },
  {
   "cell_type": "code",
   "execution_count": 2,
   "id": "2a3e079e",
   "metadata": {},
   "outputs": [],
   "source": [
    "def base64_encode(message_bytes):\n",
    "    #message = \"Python is fun\"\n",
    "    #message_bytes = message.encode('ascii')#converts into bytes\n",
    "    base64_bytes = b64encode(message_bytes)#base64 encoding\n",
    "    base64_message = base64_bytes.decode('utf-8')#bytes to ascii\n",
    "    return base64_message\n",
    "\n",
    "def base64_decode(string):\n",
    "    base64_message = string\n",
    "    base64_bytes = base64_message.encode('utf-8')\n",
    "    message_bytes = b64decode(base64_bytes)#base64 decoding\n",
    "    #message = message_bytes.decode('ascii')\n",
    "    return message_bytes"
   ]
  },
  {
   "cell_type": "code",
   "execution_count": 3,
   "id": "18ff9e48",
   "metadata": {},
   "outputs": [],
   "source": [
    "def split_into_128bits(s):\n",
    "    n = int(len(s)/32)\n",
    "    ret = []\n",
    "    j = 0\n",
    "    for i in range(n):\n",
    "        ret += [s[j:j+32]]\n",
    "        j+=32\n",
    "    return ret"
   ]
  },
  {
   "cell_type": "code",
   "execution_count": null,
   "id": "8046c36f",
   "metadata": {},
   "outputs": [],
   "source": []
  },
  {
   "cell_type": "code",
   "execution_count": 4,
   "id": "2a2302cf",
   "metadata": {},
   "outputs": [
    {
     "name": "stdout",
     "output_type": "stream",
     "text": [
      "b'Python is the Best Language. This has been the trend for the past 10 years or so!'\n"
     ]
    }
   ],
   "source": [
    "from Crypto.Random import get_random_bytes\n",
    "import sys\n",
    "from aes10 import AES as AES_mod\n",
    "from Crypto.Cipher import AES\n",
    "from Crypto.Util.Padding import pad, unpad\n",
    "\n",
    "def encrypt_AES(plaintext, IV, key):\n",
    "    \"\"\"\n",
    "    plaintext and IV as bytestring\n",
    "    key in hex format\n",
    "    \"\"\"\n",
    "    IV = base64_to_hex(base64_encode(IV))\n",
    "    s = pad(plaintext, AES.block_size)\n",
    "    s = base64_to_hex(base64_encode(s))\n",
    "    res = split_into_128bits(s)\n",
    "    new = AES_mod(key)\n",
    "    #master_key = 0x3c7e155628aed2a6abf7158809cf4f3d\n",
    "    plaintext = []\n",
    "    encrypted = []\n",
    "    n = len(res)\n",
    "    for i in range(n):\n",
    "        if(i==0):\n",
    "            plaintext.append(int(res[i],16)^int(IV,16))\n",
    "        else:\n",
    "            #print(i,len(res))\n",
    "            plaintext.append(int(res[i],16)^encrypted[i-1])\n",
    "        encrypted.append(new.encrypt(plaintext[i]))\n",
    "    return IV, encrypted\n",
    "\n",
    "def decrypt_AES(IV, encrypted, key):\n",
    "    n = len(encrypted)\n",
    "    new = AES_mod(key)\n",
    "    decrypted = []\n",
    "    res = []\n",
    "    for i in range(n):\n",
    "        decrypted.append(new.decrypt(encrypted[i]))        \n",
    "        if(i==0):\n",
    "            res.append(hex(decrypted[i] ^ int(IV,16)))\n",
    "        else:\n",
    "            res.append(hex(decrypted[i]^encrypted[i-1]))\n",
    "    s = \"\".join(i[2:] for i in res)\n",
    "    s = bytes.fromhex(s)\n",
    "    return(unpad(s,AES.block_size))\n",
    "\n",
    "\n",
    "plaintext1 = b'Python is the Best Language!'\n",
    "plaintext = b'Python is the Best Language. This has been the trend for the past 10 years or so!'\n",
    "IV = get_random_bytes(8)\n",
    "key = 0x3c7e155628aed2a6abf7158809cf4f3d\n",
    "enc_res = encrypt_AES(plaintext,IV,key)\n",
    "\n",
    "dec_res = decrypt_AES(enc_res[0],enc_res[1],key)\n",
    "print(dec_res)"
   ]
  },
  {
   "cell_type": "code",
   "execution_count": null,
   "id": "6223b240",
   "metadata": {},
   "outputs": [],
   "source": []
  },
  {
   "cell_type": "code",
   "execution_count": 5,
   "id": "360a76d5",
   "metadata": {},
   "outputs": [],
   "source": [
    "plaintext1 = b'Python is the Best Language!'\n",
    "plaintext = b'Python is the Best Language. This has been the trend for the past 10 years or so!'\n",
    "IV = get_random_bytes(8)\n",
    "key = 0x3c7e155628aed2a6abf7158809cf4f3d"
   ]
  },
  {
   "cell_type": "markdown",
   "id": "45c821f8",
   "metadata": {},
   "source": [
    "# Round-1"
   ]
  },
  {
   "cell_type": "code",
   "execution_count": 6,
   "id": "7c13caf8",
   "metadata": {},
   "outputs": [
    {
     "name": "stdout",
     "output_type": "stream",
     "text": [
      "AES_CBC_round1_ciphertext : \n",
      "\n",
      "IV :\n",
      " 6556450a048259e2 \n",
      "\n",
      "CIPHER TEXT : \n",
      " 6bb3d8423ec159e101f32bedbfa1d2da78021f308fad03ad8c38ffe04591a79862a9d2057bf7facb2abb0df8199ff5a9fbff406d9c5751ce17fa91b7a5bdbf4daf89d781596b0387a41126782b660e12bd5005e7ff5012289f76659b459e7d\n"
     ]
    }
   ],
   "source": [
    "#round-1 ciphertext generation\n",
    "from Crypto.Random import get_random_bytes\n",
    "import sys\n",
    "from aes1 import AES as AES_mod\n",
    "from Crypto.Cipher import AES\n",
    "from Crypto.Util.Padding import pad, unpad\n",
    "\n",
    "def encrypt_AES(plaintext, IV, key):\n",
    "    \"\"\"\n",
    "    plaintext and IV as bytestring\n",
    "    key in hex format\n",
    "    \"\"\"\n",
    "    IV = base64_to_hex(base64_encode(IV))\n",
    "    s = pad(plaintext, AES.block_size)\n",
    "    s = base64_to_hex(base64_encode(s))\n",
    "    res = split_into_128bits(s)\n",
    "    new = AES_mod(key)\n",
    "    #master_key = 0x3c7e155628aed2a6abf7158809cf4f3d\n",
    "    plaintext = []\n",
    "    encrypted = []\n",
    "    n = len(res)\n",
    "    for i in range(n):\n",
    "        if(i==0):\n",
    "            plaintext.append(int(res[i],16)^int(IV,16))\n",
    "        else:\n",
    "            #print(i,len(res))\n",
    "            plaintext.append(int(res[i],16)^encrypted[i-1])\n",
    "        encrypted.append(new.encrypt(plaintext[i]))\n",
    "    return IV, encrypted\n",
    "\n",
    "enc_res = encrypt_AES(plaintext,IV,key)\n",
    "\n",
    "#print(enc_res)\n",
    "print(\"AES_CBC_round1_ciphertext : \\n\\nIV :\\n\",enc_res[0],\"\\n\\nCIPHER TEXT : \\n\",\"\".join(hex(i)[2:] for i in enc_res[1]))\n",
    "# dec_res = decrypt_AES(enc_res[0],enc_res[1],key)\n",
    "# print(dec_res)"
   ]
  },
  {
   "cell_type": "code",
   "execution_count": null,
   "id": "5f90204c",
   "metadata": {},
   "outputs": [],
   "source": []
  },
  {
   "cell_type": "markdown",
   "id": "30a79d52",
   "metadata": {},
   "source": [
    "# Round-2"
   ]
  },
  {
   "cell_type": "code",
   "execution_count": 7,
   "id": "6e67f0cc",
   "metadata": {},
   "outputs": [
    {
     "name": "stdout",
     "output_type": "stream",
     "text": [
      "AES_CBC_round2_ciphertext : \n",
      "\n",
      "IV :\n",
      " 6556450a048259e2 \n",
      "\n",
      "CIPHER TEXT : \n",
      " 56b0261bf5b95e791b6d5003d14754bd5c3bae79d78ab194d7e0c6c9d8e2c356e6507af5701d600ec3430368c55db8109b44f43ea09700ea3913be4f4386696441727accfe72a50cae29f67331460d7897f494ad936b47d171acc0d2e7cd1b22\n"
     ]
    }
   ],
   "source": [
    "#round-2 ciphertext generation\n",
    "from Crypto.Random import get_random_bytes\n",
    "import sys\n",
    "from aes2 import AES as AES_mod\n",
    "from Crypto.Cipher import AES\n",
    "from Crypto.Util.Padding import pad, unpad\n",
    "\n",
    "def encrypt_AES(plaintext, IV, key):\n",
    "    \"\"\"\n",
    "    plaintext and IV as bytestring\n",
    "    key in hex format\n",
    "    \"\"\"\n",
    "    IV = base64_to_hex(base64_encode(IV))\n",
    "    s = pad(plaintext, AES.block_size)\n",
    "    s = base64_to_hex(base64_encode(s))\n",
    "    res = split_into_128bits(s)\n",
    "    new = AES_mod(key)\n",
    "    #master_key = 0x3c7e155628aed2a6abf7158809cf4f3d\n",
    "    plaintext = []\n",
    "    encrypted = []\n",
    "    n = len(res)\n",
    "    for i in range(n):\n",
    "        if(i==0):\n",
    "            plaintext.append(int(res[i],16)^int(IV,16))\n",
    "        else:\n",
    "            #print(i,len(res))\n",
    "            plaintext.append(int(res[i],16)^encrypted[i-1])\n",
    "        encrypted.append(new.encrypt(plaintext[i]))\n",
    "    return IV, encrypted\n",
    "\n",
    "\n",
    "enc_res = encrypt_AES(plaintext,IV,key)\n",
    "\n",
    "#print(enc_res)\n",
    "print(\"AES_CBC_round2_ciphertext : \\n\\nIV :\\n\",enc_res[0],\"\\n\\nCIPHER TEXT : \\n\",\"\".join(hex(i)[2:] for i in enc_res[1]))\n",
    "# dec_res = decrypt_AES(enc_res[0],enc_res[1],key)\n",
    "# print(dec_res)"
   ]
  },
  {
   "cell_type": "markdown",
   "id": "2577d6af",
   "metadata": {},
   "source": [
    "# Round - 3"
   ]
  },
  {
   "cell_type": "code",
   "execution_count": 8,
   "id": "d55647b1",
   "metadata": {},
   "outputs": [
    {
     "name": "stdout",
     "output_type": "stream",
     "text": [
      "AES_CBC_round3_ciphertext : \n",
      "\n",
      "IV :\n",
      " 6556450a048259e2 \n",
      "\n",
      "CIPHER TEXT : \n",
      " 61d883c6ad41f51600a9824ce104db31ec618665b61009f9c84499ad2bc0a245b55b403dea2ed482b69e27ba19108bf79d63f38f0494f17ffbc27cf79af9251ca7392ef1cde698de1bb2ba1ff3ff5365a393557c42825504307e6b8771dc0ebc\n"
     ]
    }
   ],
   "source": [
    "#round-3 ciphertext generation\n",
    "from Crypto.Random import get_random_bytes\n",
    "import sys\n",
    "from aes3 import AES as AES_mod\n",
    "from Crypto.Cipher import AES\n",
    "from Crypto.Util.Padding import pad, unpad\n",
    "\n",
    "def encrypt_AES(plaintext, IV, key):\n",
    "    \"\"\"\n",
    "    plaintext and IV as bytestring\n",
    "    key in hex format\n",
    "    \"\"\"\n",
    "    IV = base64_to_hex(base64_encode(IV))\n",
    "    s = pad(plaintext, AES.block_size)\n",
    "    s = base64_to_hex(base64_encode(s))\n",
    "    res = split_into_128bits(s)\n",
    "    new = AES_mod(key)\n",
    "    #master_key = 0x3c7e155628aed2a6abf7158809cf4f3d\n",
    "    plaintext = []\n",
    "    encrypted = []\n",
    "    n = len(res)\n",
    "    for i in range(n):\n",
    "        if(i==0):\n",
    "            plaintext.append(int(res[i],16)^int(IV,16))\n",
    "        else:\n",
    "            #print(i,len(res))\n",
    "            plaintext.append(int(res[i],16)^encrypted[i-1])\n",
    "        encrypted.append(new.encrypt(plaintext[i]))\n",
    "    return IV, encrypted\n",
    "\n",
    "\n",
    "enc_res = encrypt_AES(plaintext,IV,key)\n",
    "\n",
    "#print(enc_res)\n",
    "print(\"AES_CBC_round3_ciphertext : \\n\\nIV :\\n\",enc_res[0],\"\\n\\nCIPHER TEXT : \\n\",\"\".join(hex(i)[2:] for i in enc_res[1]))\n",
    "# dec_res = decrypt_AES(enc_res[0],enc_res[1],key)\n",
    "# print(dec_res)"
   ]
  },
  {
   "cell_type": "markdown",
   "id": "523b3bca",
   "metadata": {},
   "source": [
    "# Round - 4"
   ]
  },
  {
   "cell_type": "code",
   "execution_count": 9,
   "id": "d4bcd669",
   "metadata": {},
   "outputs": [
    {
     "name": "stdout",
     "output_type": "stream",
     "text": [
      "AES_CBC_round4_ciphertext : \n",
      "\n",
      "IV :\n",
      " 6556450a048259e2 \n",
      "\n",
      "CIPHER TEXT : \n",
      " 5c3fd4b43063a158fd326b569698fa9fbcffd87ebedf77a510d8a6ff1629ea9e7fe4ce410597643231b4aad7b0d9cbf3420996552770c7649e1a3bc0fbf6ab5da1f914e30e2332650fb9bd5a0b9f74b49ba42a86300463712dffda3556e5b96\n"
     ]
    }
   ],
   "source": [
    "#round-4 ciphertext generation\n",
    "from Crypto.Random import get_random_bytes\n",
    "import sys\n",
    "from aes4 import AES as AES_mod\n",
    "from Crypto.Cipher import AES\n",
    "from Crypto.Util.Padding import pad, unpad\n",
    "\n",
    "def encrypt_AES(plaintext, IV, key):\n",
    "    \"\"\"\n",
    "    plaintext and IV as bytestring\n",
    "    key in hex format\n",
    "    \"\"\"\n",
    "    IV = base64_to_hex(base64_encode(IV))\n",
    "    s = pad(plaintext, AES.block_size)\n",
    "    s = base64_to_hex(base64_encode(s))\n",
    "    res = split_into_128bits(s)\n",
    "    new = AES_mod(key)\n",
    "    #master_key = 0x3c7e155628aed2a6abf7158809cf4f3d\n",
    "    plaintext = []\n",
    "    encrypted = []\n",
    "    n = len(res)\n",
    "    for i in range(n):\n",
    "        if(i==0):\n",
    "            plaintext.append(int(res[i],16)^int(IV,16))\n",
    "        else:\n",
    "            #print(i,len(res))\n",
    "            plaintext.append(int(res[i],16)^encrypted[i-1])\n",
    "        encrypted.append(new.encrypt(plaintext[i]))\n",
    "    return IV, encrypted\n",
    "\n",
    "\n",
    "enc_res = encrypt_AES(plaintext,IV,key)\n",
    "\n",
    "#print(enc_res)\n",
    "print(\"AES_CBC_round4_ciphertext : \\n\\nIV :\\n\",enc_res[0],\"\\n\\nCIPHER TEXT : \\n\",\"\".join(hex(i)[2:] for i in enc_res[1]))\n",
    "# dec_res = decrypt_AES(enc_res[0],enc_res[1],key)\n",
    "# print(dec_res)"
   ]
  },
  {
   "cell_type": "markdown",
   "id": "ea93d842",
   "metadata": {},
   "source": [
    "# Round - 5"
   ]
  },
  {
   "cell_type": "code",
   "execution_count": 10,
   "id": "39c61908",
   "metadata": {},
   "outputs": [
    {
     "name": "stdout",
     "output_type": "stream",
     "text": [
      "AES_CBC_round5_ciphertext : \n",
      "\n",
      "IV :\n",
      " 6556450a048259e2 \n",
      "\n",
      "CIPHER TEXT : \n",
      " 11483eee9822bfff883682b9fe7b3853fe67503cd419901bfb03971d550c476e97d1bc014527745d035ed14fad13ffce26aec5725d9480ecda6e986a195941c85d855e6eb1b3cced483a649423b3cba61bf3c58bd2a832b063415b6d055f6980\n"
     ]
    }
   ],
   "source": [
    "#round-5 ciphertext generation\n",
    "from Crypto.Random import get_random_bytes\n",
    "import sys\n",
    "from aes5 import AES as AES_mod\n",
    "from Crypto.Cipher import AES\n",
    "from Crypto.Util.Padding import pad, unpad\n",
    "\n",
    "def encrypt_AES(plaintext, IV, key):\n",
    "    \"\"\"\n",
    "    plaintext and IV as bytestring\n",
    "    key in hex format\n",
    "    \"\"\"\n",
    "    IV = base64_to_hex(base64_encode(IV))\n",
    "    s = pad(plaintext, AES.block_size)\n",
    "    s = base64_to_hex(base64_encode(s))\n",
    "    res = split_into_128bits(s)\n",
    "    new = AES_mod(key)\n",
    "    #master_key = 0x3c7e155628aed2a6abf7158809cf4f3d\n",
    "    plaintext = []\n",
    "    encrypted = []\n",
    "    n = len(res)\n",
    "    for i in range(n):\n",
    "        if(i==0):\n",
    "            plaintext.append(int(res[i],16)^int(IV,16))\n",
    "        else:\n",
    "            #print(i,len(res))\n",
    "            plaintext.append(int(res[i],16)^encrypted[i-1])\n",
    "        encrypted.append(new.encrypt(plaintext[i]))\n",
    "    return IV, encrypted\n",
    "\n",
    "\n",
    "enc_res = encrypt_AES(plaintext,IV,key)\n",
    "\n",
    "#print(enc_res)\n",
    "print(\"AES_CBC_round5_ciphertext : \\n\\nIV :\\n\",enc_res[0],\"\\n\\nCIPHER TEXT : \\n\",\"\".join(hex(i)[2:] for i in enc_res[1]))\n",
    "# dec_res = decrypt_AES(enc_res[0],enc_res[1],key)\n",
    "# print(dec_res)"
   ]
  },
  {
   "cell_type": "markdown",
   "id": "494e73ed",
   "metadata": {},
   "source": [
    "# Round - 6"
   ]
  },
  {
   "cell_type": "code",
   "execution_count": 11,
   "id": "cc1c300c",
   "metadata": {},
   "outputs": [
    {
     "name": "stdout",
     "output_type": "stream",
     "text": [
      "AES_CBC_round6_ciphertext : \n",
      "\n",
      "IV :\n",
      " 6556450a048259e2 \n",
      "\n",
      "CIPHER TEXT : \n",
      " d671a8f060e1c848508de3a7186731a9cd3982b2dc081df0c8308e7979f6f3bbc39a383385003600d3ef048edada6fcd1ca915a34f352a6b1cfa0041fd822e2fa0016f1e9af8e5e08ff6622b2dcfe786910ab24c5be87eca04630f05d854bc76\n"
     ]
    }
   ],
   "source": [
    "#round-6 ciphertext generation\n",
    "from Crypto.Random import get_random_bytes\n",
    "import sys\n",
    "from aes6 import AES as AES_mod\n",
    "from Crypto.Cipher import AES\n",
    "from Crypto.Util.Padding import pad, unpad\n",
    "\n",
    "def encrypt_AES(plaintext, IV, key):\n",
    "    \"\"\"\n",
    "    plaintext and IV as bytestring\n",
    "    key in hex format\n",
    "    \"\"\"\n",
    "    IV = base64_to_hex(base64_encode(IV))\n",
    "    s = pad(plaintext, AES.block_size)\n",
    "    s = base64_to_hex(base64_encode(s))\n",
    "    res = split_into_128bits(s)\n",
    "    new = AES_mod(key)\n",
    "    #master_key = 0x3c7e155628aed2a6abf7158809cf4f3d\n",
    "    plaintext = []\n",
    "    encrypted = []\n",
    "    n = len(res)\n",
    "    for i in range(n):\n",
    "        if(i==0):\n",
    "            plaintext.append(int(res[i],16)^int(IV,16))\n",
    "        else:\n",
    "            #print(i,len(res))\n",
    "            plaintext.append(int(res[i],16)^encrypted[i-1])\n",
    "        encrypted.append(new.encrypt(plaintext[i]))\n",
    "    return IV, encrypted\n",
    "\n",
    "\n",
    "enc_res = encrypt_AES(plaintext,IV,key)\n",
    "\n",
    "#print(enc_res)\n",
    "print(\"AES_CBC_round6_ciphertext : \\n\\nIV :\\n\",enc_res[0],\"\\n\\nCIPHER TEXT : \\n\",\"\".join(hex(i)[2:] for i in enc_res[1]))\n",
    "# dec_res = decrypt_AES(enc_res[0],enc_res[1],key)\n",
    "# print(dec_res)"
   ]
  },
  {
   "cell_type": "markdown",
   "id": "2c5f89fc",
   "metadata": {},
   "source": [
    "# Round - 7"
   ]
  },
  {
   "cell_type": "code",
   "execution_count": 12,
   "id": "698337d3",
   "metadata": {},
   "outputs": [
    {
     "name": "stdout",
     "output_type": "stream",
     "text": [
      "AES_CBC_round7_ciphertext : \n",
      "\n",
      "IV :\n",
      " 6556450a048259e2 \n",
      "\n",
      "CIPHER TEXT : \n",
      " fac856b8070d7ecfb6241564c2d0b9e4310c4ea66333f00d13b1c2fa674a1c85713e5242e994c50f920e61a68d5e3d0625a85ede3877277178ccd969519964b739cb387e03121e0bbb82f0dac57b32d9dfacd615f60f95875427ead3edcbf1b3\n"
     ]
    }
   ],
   "source": [
    "#round-7 ciphertext generation\n",
    "from Crypto.Random import get_random_bytes\n",
    "import sys\n",
    "from aes7 import AES as AES_mod\n",
    "from Crypto.Cipher import AES\n",
    "from Crypto.Util.Padding import pad, unpad\n",
    "\n",
    "def encrypt_AES(plaintext, IV, key):\n",
    "    \"\"\"\n",
    "    plaintext and IV as bytestring\n",
    "    key in hex format\n",
    "    \"\"\"\n",
    "    IV = base64_to_hex(base64_encode(IV))\n",
    "    s = pad(plaintext, AES.block_size)\n",
    "    s = base64_to_hex(base64_encode(s))\n",
    "    res = split_into_128bits(s)\n",
    "    new = AES_mod(key)\n",
    "    #master_key = 0x3c7e155628aed2a6abf7158809cf4f3d\n",
    "    plaintext = []\n",
    "    encrypted = []\n",
    "    n = len(res)\n",
    "    for i in range(n):\n",
    "        if(i==0):\n",
    "            plaintext.append(int(res[i],16)^int(IV,16))\n",
    "        else:\n",
    "            #print(i,len(res))\n",
    "            plaintext.append(int(res[i],16)^encrypted[i-1])\n",
    "        encrypted.append(new.encrypt(plaintext[i]))\n",
    "    return IV, encrypted\n",
    "\n",
    "\n",
    "enc_res = encrypt_AES(plaintext,IV,key)\n",
    "\n",
    "#print(enc_res)\n",
    "print(\"AES_CBC_round7_ciphertext : \\n\\nIV :\\n\",enc_res[0],\"\\n\\nCIPHER TEXT : \\n\",\"\".join(hex(i)[2:] for i in enc_res[1]))\n",
    "# dec_res = decrypt_AES(enc_res[0],enc_res[1],key)\n",
    "# print(dec_res)"
   ]
  },
  {
   "cell_type": "markdown",
   "id": "10db587e",
   "metadata": {},
   "source": [
    "# Round - 8"
   ]
  },
  {
   "cell_type": "code",
   "execution_count": 13,
   "id": "0f85c593",
   "metadata": {},
   "outputs": [
    {
     "name": "stdout",
     "output_type": "stream",
     "text": [
      "AES_CBC_round8_ciphertext : \n",
      "\n",
      "IV :\n",
      " 6556450a048259e2 \n",
      "\n",
      "CIPHER TEXT : \n",
      " 9b69e81b72f519e1a04f9a63875f3576b2965596d302d9f517599e957e07a4c94b58f99e148aae1ea5c336cd5e8f74ea69bd32e5252493d107dc1ec6e8c3929a1af01401b9109d4c03211d8cdacc8f70a09bd5a4d498155c9a8a0b9eaa600459\n"
     ]
    }
   ],
   "source": [
    "#round-8 ciphertext generation\n",
    "from Crypto.Random import get_random_bytes\n",
    "import sys\n",
    "from aes8 import AES as AES_mod\n",
    "from Crypto.Cipher import AES\n",
    "from Crypto.Util.Padding import pad, unpad\n",
    "\n",
    "def encrypt_AES(plaintext, IV, key):\n",
    "    \"\"\"\n",
    "    plaintext and IV as bytestring\n",
    "    key in hex format\n",
    "    \"\"\"\n",
    "    IV = base64_to_hex(base64_encode(IV))\n",
    "    s = pad(plaintext, AES.block_size)\n",
    "    s = base64_to_hex(base64_encode(s))\n",
    "    res = split_into_128bits(s)\n",
    "    new = AES_mod(key)\n",
    "    #master_key = 0x3c7e155628aed2a6abf7158809cf4f3d\n",
    "    plaintext = []\n",
    "    encrypted = []\n",
    "    n = len(res)\n",
    "    for i in range(n):\n",
    "        if(i==0):\n",
    "            plaintext.append(int(res[i],16)^int(IV,16))\n",
    "        else:\n",
    "            #print(i,len(res))\n",
    "            plaintext.append(int(res[i],16)^encrypted[i-1])\n",
    "        encrypted.append(new.encrypt(plaintext[i]))\n",
    "    return IV, encrypted\n",
    "\n",
    "\n",
    "enc_res = encrypt_AES(plaintext,IV,key)\n",
    "\n",
    "#print(enc_res)\n",
    "print(\"AES_CBC_round8_ciphertext : \\n\\nIV :\\n\",enc_res[0],\"\\n\\nCIPHER TEXT : \\n\",\"\".join(hex(i)[2:] for i in enc_res[1]))\n",
    "# dec_res = decrypt_AES(enc_res[0],enc_res[1],key)\n",
    "# print(dec_res)"
   ]
  },
  {
   "cell_type": "markdown",
   "id": "f2d701e1",
   "metadata": {},
   "source": [
    "# Round - 9"
   ]
  },
  {
   "cell_type": "code",
   "execution_count": 14,
   "id": "bc10700e",
   "metadata": {},
   "outputs": [
    {
     "name": "stdout",
     "output_type": "stream",
     "text": [
      "AES_CBC_round9_ciphertext : \n",
      "\n",
      "IV :\n",
      " 6556450a048259e2 \n",
      "\n",
      "CIPHER TEXT : \n",
      " a1e1957a955eaff2de8bff9e633e6567e46066b504c3d0465c77f075e92afb07d6e20f8341648090abe5eba69e32e294109eb29844665e381614f030543b1bec891e384baabceaf3f328ca4f6b254ea4bbe47e16ce50e7632cbe9c062eb6823\n"
     ]
    }
   ],
   "source": [
    "#round-9 ciphertext generation\n",
    "from Crypto.Random import get_random_bytes\n",
    "import sys\n",
    "from aes9 import AES as AES_mod\n",
    "from Crypto.Cipher import AES\n",
    "from Crypto.Util.Padding import pad, unpad\n",
    "\n",
    "def encrypt_AES(plaintext, IV, key):\n",
    "    \"\"\"\n",
    "    plaintext and IV as bytestring\n",
    "    key in hex format\n",
    "    \"\"\"\n",
    "    IV = base64_to_hex(base64_encode(IV))\n",
    "    s = pad(plaintext, AES.block_size)\n",
    "    s = base64_to_hex(base64_encode(s))\n",
    "    res = split_into_128bits(s)\n",
    "    new = AES_mod(key)\n",
    "    #master_key = 0x3c7e155628aed2a6abf7158809cf4f3d\n",
    "    plaintext = []\n",
    "    encrypted = []\n",
    "    n = len(res)\n",
    "    for i in range(n):\n",
    "        if(i==0):\n",
    "            plaintext.append(int(res[i],16)^int(IV,16))\n",
    "        else:\n",
    "            #print(i,len(res))\n",
    "            plaintext.append(int(res[i],16)^encrypted[i-1])\n",
    "        encrypted.append(new.encrypt(plaintext[i]))\n",
    "    return IV, encrypted\n",
    "\n",
    "\n",
    "enc_res = encrypt_AES(plaintext,IV,key)\n",
    "\n",
    "#print(enc_res)\n",
    "print(\"AES_CBC_round9_ciphertext : \\n\\nIV :\\n\",enc_res[0],\"\\n\\nCIPHER TEXT : \\n\",\"\".join(hex(i)[2:] for i in enc_res[1]))\n",
    "# dec_res = decrypt_AES(enc_res[0],enc_res[1],key)\n",
    "# print(dec_res)"
   ]
  },
  {
   "cell_type": "markdown",
   "id": "b0f35c89",
   "metadata": {},
   "source": [
    "# Round - 10"
   ]
  },
  {
   "cell_type": "code",
   "execution_count": 16,
   "id": "fa1e49f0",
   "metadata": {},
   "outputs": [
    {
     "name": "stdout",
     "output_type": "stream",
     "text": [
      "AES_CBC_round10_ciphertext : \n",
      "\n",
      "IV :\n",
      " 6556450a048259e2 \n",
      "\n",
      "CIPHER TEXT : \n",
      " 76a059add5c6b497cee93dde5aff40c2e9a616a8b0519f26f97cb192af4822acd0caf00638b8ca1d9d6888dcbd0e305a0c2f3f2b7785e01e1cec2d509f31c972c006822c08ec3b6fd88d8eb874942683b8acc8314c47e012ba3e09a57916214\n",
      "\n",
      "DECRYPTED TEXT:\n",
      "b'Python is the Best Language. This has been the trend for the past 10 years or so!'\n"
     ]
    }
   ],
   "source": [
    "from Crypto.Random import get_random_bytes\n",
    "import sys\n",
    "from aes10 import AES as AES_mod\n",
    "from Crypto.Cipher import AES\n",
    "from Crypto.Util.Padding import pad, unpad\n",
    "\n",
    "def encrypt_AES(plaintext, IV, key):\n",
    "    \"\"\"\n",
    "    plaintext and IV as bytestring\n",
    "    key in hex format\n",
    "    \"\"\"\n",
    "    IV = base64_to_hex(base64_encode(IV))\n",
    "    s = pad(plaintext, AES.block_size)\n",
    "    s = base64_to_hex(base64_encode(s))\n",
    "    res = split_into_128bits(s)\n",
    "    new = AES_mod(key)\n",
    "    #master_key = 0x3c7e155628aed2a6abf7158809cf4f3d\n",
    "    plaintext = []\n",
    "    encrypted = []\n",
    "    n = len(res)\n",
    "    for i in range(n):\n",
    "        if(i==0):\n",
    "            plaintext.append(int(res[i],16)^int(IV,16))\n",
    "        else:\n",
    "            #print(i,len(res))\n",
    "            plaintext.append(int(res[i],16)^encrypted[i-1])\n",
    "        encrypted.append(new.encrypt(plaintext[i]))\n",
    "    return IV, encrypted\n",
    "\n",
    "def decrypt_AES(IV, encrypted, key):\n",
    "    n = len(encrypted)\n",
    "    new = AES_mod(key)\n",
    "    decrypted = []\n",
    "    res = []\n",
    "    for i in range(n):\n",
    "        decrypted.append(new.decrypt(encrypted[i]))        \n",
    "        if(i==0):\n",
    "            res.append(hex(decrypted[i] ^ int(IV,16)))\n",
    "        else:\n",
    "            res.append(hex(decrypted[i]^encrypted[i-1]))\n",
    "    s = \"\".join(i[2:] for i in res)\n",
    "    s = bytes.fromhex(s)\n",
    "    return(unpad(s,AES.block_size))\n",
    "\n",
    "\n",
    "enc_res = encrypt_AES(plaintext,IV,key)\n",
    "print(\"AES_CBC_round10_ciphertext : \\n\\nIV :\\n\",enc_res[0],\"\\n\\nCIPHER TEXT : \\n\",\"\".join(hex(i)[2:] for i in enc_res[1]))\n",
    "\n",
    "dec_res = decrypt_AES(enc_res[0],enc_res[1],key)\n",
    "print(\"\\nDECRYPTED TEXT:\")\n",
    "print(dec_res)"
   ]
  }
 ],
 "metadata": {
  "kernelspec": {
   "display_name": "Python 3 (ipykernel)",
   "language": "python",
   "name": "python3"
  },
  "language_info": {
   "codemirror_mode": {
    "name": "ipython",
    "version": 3
   },
   "file_extension": ".py",
   "mimetype": "text/x-python",
   "name": "python",
   "nbconvert_exporter": "python",
   "pygments_lexer": "ipython3",
   "version": "3.9.13"
  }
 },
 "nbformat": 4,
 "nbformat_minor": 5
}
