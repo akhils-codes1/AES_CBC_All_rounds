{
 "cells": [
  {
   "cell_type": "code",
   "execution_count": 2,
   "id": "a85caa46",
   "metadata": {},
   "outputs": [],
   "source": [
    "from base64 import b64encode, b64decode\n",
    "\n",
    "def hex_to_base64(s):\n",
    "    b64 = b64encode(bytes.fromhex(s)).decode()\n",
    "    return b64\n",
    "\n",
    "def base64_to_hex(b64):\n",
    "    s2 = b64decode(b64.encode()).hex()\n",
    "    return s2"
   ]
  },
  {
   "cell_type": "code",
   "execution_count": 3,
   "id": "2a3e079e",
   "metadata": {},
   "outputs": [],
   "source": [
    "def base64_encode(message_bytes):\n",
    "    #message = \"Python is fun\"\n",
    "    #message_bytes = message.encode('ascii')#converts into bytes\n",
    "    base64_bytes = b64encode(message_bytes)#base64 encoding\n",
    "    base64_message = base64_bytes.decode('utf-8')#bytes to ascii\n",
    "    return base64_message\n",
    "\n",
    "def base64_decode(string):\n",
    "    base64_message = string\n",
    "    base64_bytes = base64_message.encode('utf-8')\n",
    "    message_bytes = b64decode(base64_bytes)#base64 decoding\n",
    "    #message = message_bytes.decode('ascii')\n",
    "    return message_bytes"
   ]
  },
  {
   "cell_type": "code",
   "execution_count": 4,
   "id": "18ff9e48",
   "metadata": {},
   "outputs": [],
   "source": [
    "def split_into_128bits(s):\n",
    "    n = int(len(s)/32)\n",
    "    ret = []\n",
    "    j = 0\n",
    "    for i in range(n):\n",
    "        ret += [s[j:j+32]]\n",
    "        j+=32\n",
    "    return ret"
   ]
  },
  {
   "cell_type": "code",
   "execution_count": null,
   "id": "8046c36f",
   "metadata": {},
   "outputs": [],
   "source": []
  },
  {
   "cell_type": "code",
   "execution_count": 5,
   "id": "2a2302cf",
   "metadata": {},
   "outputs": [
    {
     "name": "stdout",
     "output_type": "stream",
     "text": [
      "b'Python is the Best Language. This has been the trend for the past 10 years or so!'\n"
     ]
    }
   ],
   "source": [
    "from Crypto.Random import get_random_bytes\n",
    "import sys\n",
    "from aes10 import AES as AES_mod\n",
    "from Crypto.Cipher import AES\n",
    "from Crypto.Util.Padding import pad, unpad\n",
    "\n",
    "def encrypt_AES(plaintext, IV, key):\n",
    "    \"\"\"\n",
    "    plaintext and IV as bytestring\n",
    "    key in hex format\n",
    "    \"\"\"\n",
    "    IV = base64_to_hex(base64_encode(IV))\n",
    "    s = pad(plaintext, AES.block_size)\n",
    "    s = base64_to_hex(base64_encode(s))\n",
    "    res = split_into_128bits(s)\n",
    "    new = AES_mod(key)\n",
    "    #master_key = 0x3c7e155628aed2a6abf7158809cf4f3d\n",
    "    plaintext = []\n",
    "    encrypted = []\n",
    "    n = len(res)\n",
    "    for i in range(n):\n",
    "        if(i==0):\n",
    "            plaintext.append(int(res[i],16)^int(IV,16))\n",
    "        else:\n",
    "            #print(i,len(res))\n",
    "            plaintext.append(int(res[i],16)^encrypted[i-1])\n",
    "        encrypted.append(new.encrypt(plaintext[i]))\n",
    "    return IV, encrypted\n",
    "\n",
    "def decrypt_AES(IV, encrypted, key):\n",
    "    n = len(encrypted)\n",
    "    new = AES_mod(key)\n",
    "    decrypted = []\n",
    "    res = []\n",
    "    for i in range(n):\n",
    "        decrypted.append(new.decrypt(encrypted[i]))        \n",
    "        if(i==0):\n",
    "            res.append(hex(decrypted[i] ^ int(IV,16)))\n",
    "        else:\n",
    "            res.append(hex(decrypted[i]^encrypted[i-1]))\n",
    "    s = \"\".join(i[2:] for i in res)\n",
    "    s = bytes.fromhex(s)\n",
    "    return(unpad(s,AES.block_size))\n",
    "\n",
    "\n",
    "plaintext1 = b'Python is the Best Language!'\n",
    "plaintext = b'Python is the Best Language. This has been the trend for the past 10 years or so!'\n",
    "IV = get_random_bytes(8)\n",
    "key = 0x3c7e155628aed2a6abf7158809cf4f3d\n",
    "enc_res = encrypt_AES(plaintext,IV,key)\n",
    "\n",
    "dec_res = decrypt_AES(enc_res[0],enc_res[1],key)\n",
    "print(dec_res)"
   ]
  },
  {
   "cell_type": "code",
   "execution_count": null,
   "id": "6223b240",
   "metadata": {},
   "outputs": [],
   "source": []
  },
  {
   "cell_type": "code",
   "execution_count": 6,
   "id": "360a76d5",
   "metadata": {},
   "outputs": [],
   "source": [
    "plaintext1 = b'Python is the Best Language!'\n",
    "plaintext = b'Python is the Best Language. This has been the trend for the past 10 years or so!'\n",
    "IV = get_random_bytes(8)\n",
    "key = 0x3c7e155628aed2a6abf7158809cf4f3d"
   ]
  },
  {
   "cell_type": "markdown",
   "id": "45c821f8",
   "metadata": {},
   "source": [
    "# Round-1"
   ]
  },
  {
   "cell_type": "code",
   "execution_count": 7,
   "id": "7c13caf8",
   "metadata": {},
   "outputs": [
    {
     "name": "stdout",
     "output_type": "stream",
     "text": [
      "AES_CBC_round1_ciphertext : \n",
      "\n",
      "IV :\n",
      " 3b4ab9b90a7a0e4c \n",
      "\n",
      "CIPHER TEXT : \n",
      " 599c0f93ef7725500d468e804d8503d03d7d5032477aac0859f675198743ab845979034028cc512cda7be90215c841de3f3d44cc1c29d5a741d71da045e06a39b7716827230fc32946c4925e49c451775b47789c8e838ce083e60e9600ce211\n"
     ]
    }
   ],
   "source": [
    "#round-1 ciphertext generation\n",
    "from aes1 import AES as AES_mod\n",
    "\n",
    "enc_res = encrypt_AES(plaintext,IV,key)\n",
    "\n",
    "#print(enc_res)\n",
    "print(\"AES_CBC_round1_ciphertext : \\n\\nIV :\\n\",enc_res[0],\"\\n\\nCIPHER TEXT : \\n\",\"\".join(hex(i)[2:] for i in enc_res[1]))\n",
    "# dec_res = decrypt_AES(enc_res[0],enc_res[1],key)\n",
    "# print(dec_res)"
   ]
  },
  {
   "cell_type": "markdown",
   "id": "30a79d52",
   "metadata": {},
   "source": [
    "# Round-2"
   ]
  },
  {
   "cell_type": "code",
   "execution_count": 8,
   "id": "6e67f0cc",
   "metadata": {},
   "outputs": [
    {
     "name": "stdout",
     "output_type": "stream",
     "text": [
      "AES_CBC_round2_ciphertext : \n",
      "\n",
      "IV :\n",
      " 3b4ab9b90a7a0e4c \n",
      "\n",
      "CIPHER TEXT : \n",
      " 56fb53a9660c5797cd265dd255d89e2d3a7d9334c22ad165fdf77dd0dc5d5a5492fc49e069bde199afa54d4a5cf81ed855f785d8ef282070a183ab98529eedcf696f8e9adc2afc5038dad15e1aeda68fec792686f4349a14ade85ab57838e6\n"
     ]
    }
   ],
   "source": [
    "#round-2 ciphertext generation\n",
    "from aes2 import AES as AES_mod\n",
    "\n",
    "enc_res = encrypt_AES(plaintext,IV,key)\n",
    "\n",
    "#print(enc_res)\n",
    "print(\"AES_CBC_round2_ciphertext : \\n\\nIV :\\n\",enc_res[0],\"\\n\\nCIPHER TEXT : \\n\",\"\".join(hex(i)[2:] for i in enc_res[1]))\n",
    "# dec_res = decrypt_AES(enc_res[0],enc_res[1],key)\n",
    "# print(dec_res)"
   ]
  },
  {
   "cell_type": "markdown",
   "id": "2577d6af",
   "metadata": {},
   "source": [
    "# Round - 3"
   ]
  },
  {
   "cell_type": "code",
   "execution_count": 10,
   "id": "d55647b1",
   "metadata": {},
   "outputs": [
    {
     "name": "stdout",
     "output_type": "stream",
     "text": [
      "AES_CBC_round3_ciphertext : \n",
      "\n",
      "IV :\n",
      " 3b4ab9b90a7a0e4c \n",
      "\n",
      "CIPHER TEXT : \n",
      " a3d5def469836edc68b395587638a7ec3d170981acd1f8f80983aedd6fd80f352cb0e709b1d2e4f3d11b314bd8e045b0a63c4e8c3c2a3685a5d34b0cd94b417b811d4c450d8e5f224289251c20c25aff638ae5546ba9f15ff27e06f1d070901\n"
     ]
    }
   ],
   "source": [
    "#round-3 ciphertext generation\n",
    "from aes3 import AES as AES_mod\n",
    "\n",
    "enc_res = encrypt_AES(plaintext,IV,key)\n",
    "\n",
    "#print(enc_res)\n",
    "print(\"AES_CBC_round3_ciphertext : \\n\\nIV :\\n\",enc_res[0],\"\\n\\nCIPHER TEXT : \\n\",\"\".join(hex(i)[2:] for i in enc_res[1]))\n"
   ]
  },
  {
   "cell_type": "markdown",
   "id": "523b3bca",
   "metadata": {},
   "source": [
    "# Round - 4"
   ]
  },
  {
   "cell_type": "code",
   "execution_count": 13,
   "id": "d4bcd669",
   "metadata": {},
   "outputs": [
    {
     "name": "stdout",
     "output_type": "stream",
     "text": [
      "AES_CBC_round4_ciphertext : \n",
      "\n",
      "IV :\n",
      " 3b4ab9b90a7a0e4c \n",
      "\n",
      "CIPHER TEXT : \n",
      " c4637c4df57bfa1852c19a191546f59b3646566262b801cb4b139dde87db6d4601f25281de273ea4c13691b8dd0c9ed63209caa1d4007d560305dfbb6787552bd25b7bbae6e483f9658ff9b7687c523567da1ff27c62c7c645fadeb66a845ce\n"
     ]
    }
   ],
   "source": [
    "#round-4 ciphertext generation\n",
    "from aes4 import AES as AES_mod\n",
    "\n",
    "enc_res = encrypt_AES(plaintext,IV,key)\n",
    "\n",
    "#print(enc_res)\n",
    "print(\"AES_CBC_round4_ciphertext : \\n\\nIV :\\n\",enc_res[0],\"\\n\\nCIPHER TEXT : \\n\",\"\".join(hex(i)[2:] for i in enc_res[1]))\n"
   ]
  },
  {
   "cell_type": "markdown",
   "id": "ea93d842",
   "metadata": {},
   "source": [
    "# Round - 5"
   ]
  },
  {
   "cell_type": "code",
   "execution_count": 17,
   "id": "39c61908",
   "metadata": {},
   "outputs": [
    {
     "name": "stdout",
     "output_type": "stream",
     "text": [
      "AES_CBC_round5_ciphertext : \n",
      "\n",
      "IV :\n",
      " 3b4ab9b90a7a0e4c \n",
      "\n",
      "CIPHER TEXT : \n",
      " 225157025519cea4350c70e314f9ec68a6ff76506b771a1b23d270cc5af6e8d29c96a6ee4ea7a156fdf807154ce8dfe04d4f9a003645d4f461161723ce54123b3fc325264d4bced65bebef1fb2806bd14cd7695ff4fb8ed575cd7abfe84555fa\n"
     ]
    }
   ],
   "source": [
    "#round-5 ciphertext generation\n",
    "from aes5 import AES as AES_mod\n",
    "enc_res = encrypt_AES(plaintext,IV,key)\n",
    "\n",
    "#print(enc_res)\n",
    "print(\"AES_CBC_round5_ciphertext : \\n\\nIV :\\n\",enc_res[0],\"\\n\\nCIPHER TEXT : \\n\",\"\".join(hex(i)[2:] for i in enc_res[1]))\n",
    "# dec_res = decrypt_AES(enc_res[0],enc_res[1],key)\n",
    "# print(dec_res)"
   ]
  },
  {
   "cell_type": "markdown",
   "id": "494e73ed",
   "metadata": {},
   "source": [
    "# Round - 6"
   ]
  },
  {
   "cell_type": "code",
   "execution_count": 18,
   "id": "cc1c300c",
   "metadata": {},
   "outputs": [
    {
     "name": "stdout",
     "output_type": "stream",
     "text": [
      "AES_CBC_round6_ciphertext : \n",
      "\n",
      "IV :\n",
      " 3b4ab9b90a7a0e4c \n",
      "\n",
      "CIPHER TEXT : \n",
      " d780998d8fa9e11191cb21bec0e227e44892515018c2ca38292c386577f37231a4489a6ae95b4e8a74bf9c3edd7d26b39c0083ebcf36a380475d4dc04e96116bd2dadc3fd64ce9c1dd37fdf08aa157a6b174471986fa7f98568d8ebf0081c39f\n"
     ]
    }
   ],
   "source": [
    "#round-6 ciphertext generation\n",
    "from aes6 import AES as AES_mod\n",
    "enc_res = encrypt_AES(plaintext,IV,key)\n",
    "\n",
    "#print(enc_res)\n",
    "print(\"AES_CBC_round6_ciphertext : \\n\\nIV :\\n\",enc_res[0],\"\\n\\nCIPHER TEXT : \\n\",\"\".join(hex(i)[2:] for i in enc_res[1]))\n",
    "# dec_res = decrypt_AES(enc_res[0],enc_res[1],key)\n",
    "# print(dec_res)"
   ]
  },
  {
   "cell_type": "markdown",
   "id": "2c5f89fc",
   "metadata": {},
   "source": [
    "# Round - 7"
   ]
  },
  {
   "cell_type": "code",
   "execution_count": 19,
   "id": "698337d3",
   "metadata": {},
   "outputs": [
    {
     "name": "stdout",
     "output_type": "stream",
     "text": [
      "AES_CBC_round7_ciphertext : \n",
      "\n",
      "IV :\n",
      " 3b4ab9b90a7a0e4c \n",
      "\n",
      "CIPHER TEXT : \n",
      " 3af3930346e6e1c1d268e983bcd9ed5cb2b2eeae58bf2de09cbc7cd719973cb5c0d4e8f5992bd9f49e4eb2794aab865c925088f95c452b0115403c9ee98b50da3a2ff7e88baf4ee90eec63b461be61664b91f21370584f5ba4f46ea7738b36c\n"
     ]
    }
   ],
   "source": [
    "#round-7 ciphertext generation\n",
    "from aes7 import AES as AES_mod\n",
    "\n",
    "enc_res = encrypt_AES(plaintext,IV,key)\n",
    "\n",
    "#print(enc_res)\n",
    "print(\"AES_CBC_round7_ciphertext : \\n\\nIV :\\n\",enc_res[0],\"\\n\\nCIPHER TEXT : \\n\",\"\".join(hex(i)[2:] for i in enc_res[1]))\n"
   ]
  },
  {
   "cell_type": "markdown",
   "id": "10db587e",
   "metadata": {},
   "source": [
    "# Round - 8"
   ]
  },
  {
   "cell_type": "code",
   "execution_count": 21,
   "id": "0f85c593",
   "metadata": {},
   "outputs": [
    {
     "name": "stdout",
     "output_type": "stream",
     "text": [
      "AES_CBC_round8_ciphertext : \n",
      "\n",
      "IV :\n",
      " 3b4ab9b90a7a0e4c \n",
      "\n",
      "CIPHER TEXT : \n",
      " 559cf7afd69eca051d7bf3a2977c6c1d229e0251078cf28427ed87c3e3b34523f543c0e83cd11d8863f7830382104df613c74a507e5889d6a0a04c7052403a9891414a62f0d79030f8eec197ae2bfe288bcc7505f2353702a383d713b4df2779\n"
     ]
    }
   ],
   "source": [
    "#round-8 ciphertext generation\n",
    "from aes8 import AES as AES_mod\n",
    "\n",
    "enc_res = encrypt_AES(plaintext,IV,key)\n",
    "\n",
    "#print(enc_res)\n",
    "print(\"AES_CBC_round8_ciphertext : \\n\\nIV :\\n\",enc_res[0],\"\\n\\nCIPHER TEXT : \\n\",\"\".join(hex(i)[2:] for i in enc_res[1]))\n",
    "# dec_res = decrypt_AES(enc_res[0],enc_res[1],key)\n",
    "# print(dec_res)"
   ]
  },
  {
   "cell_type": "markdown",
   "id": "f2d701e1",
   "metadata": {},
   "source": [
    "# Round - 9"
   ]
  },
  {
   "cell_type": "code",
   "execution_count": 24,
   "id": "bc10700e",
   "metadata": {},
   "outputs": [
    {
     "name": "stdout",
     "output_type": "stream",
     "text": [
      "AES_CBC_round9_ciphertext : \n",
      "\n",
      "IV :\n",
      " 3b4ab9b90a7a0e4c \n",
      "\n",
      "CIPHER TEXT : \n",
      " 6f905e22063e4ae74cf737434ed5dec3ad6b94b8c596105c602698e67bcf86d472852e4f7e39399cc2d495eb8034b40fcc4c1aa24179a64d7cbea4773b847accf6d4785f3fecfd771c7b7c63113c67582ba0dac4171e8cc4a5c3fc1d36858f24\n"
     ]
    }
   ],
   "source": [
    "#round-9 ciphertext generation\n",
    "from aes9 import AES as AES_mod\n",
    "enc_res = encrypt_AES(plaintext,IV,key)\n",
    "\n",
    "#print(enc_res)\n",
    "print(\"AES_CBC_round9_ciphertext : \\n\\nIV :\\n\",enc_res[0],\"\\n\\nCIPHER TEXT : \\n\",\"\".join(hex(i)[2:] for i in enc_res[1]))\n",
    "# dec_res = decrypt_AES(enc_res[0],enc_res[1],key)\n",
    "# print(dec_res)"
   ]
  },
  {
   "cell_type": "markdown",
   "id": "b0f35c89",
   "metadata": {},
   "source": [
    "# Round - 10"
   ]
  },
  {
   "cell_type": "code",
   "execution_count": 26,
   "id": "fa1e49f0",
   "metadata": {},
   "outputs": [
    {
     "name": "stdout",
     "output_type": "stream",
     "text": [
      "AES_CBC_round10_ciphertext : \n",
      "\n",
      "IV :\n",
      " 3b4ab9b90a7a0e4c \n",
      "\n",
      "CIPHER TEXT : \n",
      " ec4ad5069093e4defa584fc38e67efd332d6a083376010918b83dc679a0d2252df175fdae4529514ce085e90d4f0b414e7e9935c214bd13dff61a148501e4f325f30ae583cc09b0cf76b50cd06e03f21e373b57896cd4e888945c297f38c1a\n",
      "\n",
      "DECRYPTED TEXT:\n",
      "b'Python is the Best Language. This has been the trend for the past 10 years or so!'\n"
     ]
    }
   ],
   "source": [
    "from aes10 import AES as AES_mod\n",
    "enc_res = encrypt_AES(plaintext,IV,key)\n",
    "print(\"AES_CBC_round10_ciphertext : \\n\\nIV :\\n\",enc_res[0],\"\\n\\nCIPHER TEXT : \\n\",\"\".join(hex(i)[2:] for i in enc_res[1]))\n",
    "\n",
    "dec_res = decrypt_AES(enc_res[0],enc_res[1],key)\n",
    "print(\"\\nDECRYPTED TEXT:\")\n",
    "print(dec_res)"
   ]
  }
 ],
 "metadata": {
  "kernelspec": {
   "display_name": "Python 3 (ipykernel)",
   "language": "python",
   "name": "python3"
  },
  "language_info": {
   "codemirror_mode": {
    "name": "ipython",
    "version": 3
   },
   "file_extension": ".py",
   "mimetype": "text/x-python",
   "name": "python",
   "nbconvert_exporter": "python",
   "pygments_lexer": "ipython3",
   "version": "3.9.12"
  }
 },
 "nbformat": 4,
 "nbformat_minor": 5
}
